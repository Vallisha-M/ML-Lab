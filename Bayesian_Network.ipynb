{
  "nbformat": 4,
  "nbformat_minor": 0,
  "metadata": {
    "colab": {
      "name": "Bayesian-Network.ipynb",
      "provenance": [],
      "authorship_tag": "ABX9TyM0Olj+zMXlxLhKvC2Z3MiI"
    },
    "kernelspec": {
      "name": "python3",
      "display_name": "Python 3"
    },
    "language_info": {
      "name": "python"
    }
  },
  "cells": [
    {
      "cell_type": "code",
      "source": [
        "!pip install pomegranate"
      ],
      "metadata": {
        "colab": {
          "base_uri": "https://localhost:8080/"
        },
        "id": "OtaSg9H57UOT",
        "outputId": "9885ec79-9af1-4345-b232-2bb946b9a68e"
      },
      "execution_count": 1,
      "outputs": [
        {
          "output_type": "stream",
          "name": "stdout",
          "text": [
            "Looking in indexes: https://pypi.org/simple, https://us-python.pkg.dev/colab-wheels/public/simple/\n",
            "Collecting pomegranate\n",
            "  Downloading pomegranate-0.14.8.tar.gz (4.3 MB)\n",
            "\u001b[K     |████████████████████████████████| 4.3 MB 8.7 MB/s \n",
            "\u001b[?25h  Installing build dependencies ... \u001b[?25l\u001b[?25hdone\n",
            "  Getting requirements to build wheel ... \u001b[?25l\u001b[?25hdone\n",
            "    Preparing wheel metadata ... \u001b[?25l\u001b[?25hdone\n",
            "Requirement already satisfied: joblib>=0.9.0b4 in /usr/local/lib/python3.7/dist-packages (from pomegranate) (1.1.0)\n",
            "Requirement already satisfied: networkx>=2.4 in /usr/local/lib/python3.7/dist-packages (from pomegranate) (2.6.3)\n",
            "Requirement already satisfied: scipy>=0.17.0 in /usr/local/lib/python3.7/dist-packages (from pomegranate) (1.4.1)\n",
            "Requirement already satisfied: numpy>=1.20.0 in /usr/local/lib/python3.7/dist-packages (from pomegranate) (1.21.6)\n",
            "Requirement already satisfied: pyyaml in /usr/local/lib/python3.7/dist-packages (from pomegranate) (3.13)\n",
            "Building wheels for collected packages: pomegranate\n",
            "  Building wheel for pomegranate (PEP 517) ... \u001b[?25l\u001b[?25hdone\n",
            "  Created wheel for pomegranate: filename=pomegranate-0.14.8-cp37-cp37m-linux_x86_64.whl size=15068355 sha256=6cf5f92298b30a693e00b47e751dd3f3f94cf4d8b655e616b80d59350901c346\n",
            "  Stored in directory: /root/.cache/pip/wheels/24/68/69/0eaab474ef1d65abedcd47de8a38ab21d221d329954d7edd24\n",
            "Successfully built pomegranate\n",
            "Installing collected packages: pomegranate\n",
            "Successfully installed pomegranate-0.14.8\n"
          ]
        }
      ]
    },
    {
      "cell_type": "markdown",
      "source": [
        "###Monty Door Problem\n",
        "\n",
        "\n",
        "![temp1.png](data:image/png;base64,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)"
      ],
      "metadata": {
        "id": "pcjGOc_27sYE"
      }
    },
    {
      "cell_type": "code",
      "execution_count": 2,
      "metadata": {
        "id": "VOWeoGb67KjZ"
      },
      "outputs": [],
      "source": [
        "#Import required packages\n",
        "import math\n",
        "from pomegranate import *\n",
        " \n",
        "# Initially the door selected by the guest is completely random\n",
        "guest =DiscreteDistribution( { 'A': 1./3, 'B': 1./3, 'C': 1./3 } )\n",
        " \n",
        "# The door containing the prize is also a random process\n",
        "prize =DiscreteDistribution( { 'A': 1./3, 'B': 1./3, 'C': 1./3 } )\n",
        " \n",
        "# The door Monty picks, depends on the choice of the guest and the prize door\n",
        "monty =ConditionalProbabilityTable(\n",
        "[[ 'A', 'A', 'A', 0.0 ],\n",
        "[ 'A', 'A', 'B', 0.5 ],\n",
        "[ 'A', 'A', 'C', 0.5 ],\n",
        "[ 'A', 'B', 'A', 0.0 ],\n",
        "[ 'A', 'B', 'B', 0.0 ],\n",
        "[ 'A', 'B', 'C', 1.0 ],\n",
        "[ 'A', 'C', 'A', 0.0 ],\n",
        "[ 'A', 'C', 'B', 1.0 ],\n",
        "[ 'A', 'C', 'C', 0.0 ],\n",
        "[ 'B', 'A', 'A', 0.0 ],\n",
        "[ 'B', 'A', 'B', 0.0 ],\n",
        "[ 'B', 'A', 'C', 1.0 ],\n",
        "[ 'B', 'B', 'A', 0.5 ],\n",
        "[ 'B', 'B', 'B', 0.0 ],\n",
        "[ 'B', 'B', 'C', 0.5 ],\n",
        "[ 'B', 'C', 'A', 1.0 ],\n",
        "[ 'B', 'C', 'B', 0.0 ],\n",
        "[ 'B', 'C', 'C', 0.0 ],\n",
        "[ 'C', 'A', 'A', 0.0 ],\n",
        "[ 'C', 'A', 'B', 1.0 ],\n",
        "[ 'C', 'A', 'C', 0.0 ],\n",
        "[ 'C', 'B', 'A', 1.0 ],\n",
        "[ 'C', 'B', 'B', 0.0 ],\n",
        "[ 'C', 'B', 'C', 0.0 ],\n",
        "[ 'C', 'C', 'A', 0.5 ],\n",
        "[ 'C', 'C', 'B', 0.5 ],\n",
        "[ 'C', 'C', 'C', 0.0 ]], [guest, prize] )\n",
        " \n",
        "d1 = State( guest, name=\"guest\" )\n",
        "d2 = State( prize, name=\"prize\" )\n",
        "d3 = State( monty, name=\"monty\" )\n",
        " \n",
        "#Building the Bayesian Network\n",
        "network = BayesianNetwork( \"Solving the Monty Hall Problem With Bayesian Networks\" )\n",
        "network.add_states(d1, d2, d3)\n",
        "network.add_edge(d1, d3)\n",
        "network.add_edge(d2, d3)\n",
        "network.bake()"
      ]
    },
    {
      "cell_type": "code",
      "source": [
        "beliefs = network.predict_proba({ 'guest' : 'A' })\n",
        "beliefs = map(str, beliefs)\n",
        "print(\"n\".join( \"{}t{}\".format( state.name, belief ) for state, belief in zip( network.states, beliefs ) ))"
      ],
      "metadata": {
        "colab": {
          "base_uri": "https://localhost:8080/"
        },
        "id": "6oWY2S438fcd",
        "outputId": "b734bdea-40b3-495f-8577-b998dfb189e6"
      },
      "execution_count": 8,
      "outputs": [
        {
          "output_type": "stream",
          "name": "stdout",
          "text": [
            "guesttAnprizet{\n",
            "    \"class\" : \"Distribution\",\n",
            "    \"dtype\" : \"str\",\n",
            "    \"name\" : \"DiscreteDistribution\",\n",
            "    \"parameters\" : [\n",
            "        {\n",
            "            \"A\" : 0.3333333333333333,\n",
            "            \"B\" : 0.3333333333333333,\n",
            "            \"C\" : 0.3333333333333333\n",
            "        }\n",
            "    ],\n",
            "    \"frozen\" : false\n",
            "}nmontyt{\n",
            "    \"class\" : \"Distribution\",\n",
            "    \"dtype\" : \"str\",\n",
            "    \"name\" : \"DiscreteDistribution\",\n",
            "    \"parameters\" : [\n",
            "        {\n",
            "            \"B\" : 0.49999999999999983,\n",
            "            \"A\" : 0.0,\n",
            "            \"C\" : 0.49999999999999983\n",
            "        }\n",
            "    ],\n",
            "    \"frozen\" : false\n",
            "}\n"
          ]
        }
      ]
    },
    {
      "cell_type": "code",
      "source": [
        "beliefs = network.predict_proba({'guest' : 'A', 'monty' : 'B'})\n",
        "print(\"n\".join( \"{}t{}\".format( state.name, str(belief) ) for state, belief in zip( network.states, beliefs )))\n",
        " "
      ],
      "metadata": {
        "colab": {
          "base_uri": "https://localhost:8080/"
        },
        "id": "vDaH710J8wwT",
        "outputId": "d69be67a-f839-46be-800a-8df006bafde6"
      },
      "execution_count": 9,
      "outputs": [
        {
          "output_type": "stream",
          "name": "stdout",
          "text": [
            "guesttAnprizet{\n",
            "    \"class\" : \"Distribution\",\n",
            "    \"dtype\" : \"str\",\n",
            "    \"name\" : \"DiscreteDistribution\",\n",
            "    \"parameters\" : [\n",
            "        {\n",
            "            \"A\" : 0.3333333333333334,\n",
            "            \"B\" : 0.0,\n",
            "            \"C\" : 0.6666666666666664\n",
            "        }\n",
            "    ],\n",
            "    \"frozen\" : false\n",
            "}nmontytB\n"
          ]
        }
      ]
    },
    {
      "cell_type": "code",
      "source": [
        ""
      ],
      "metadata": {
        "id": "0E-ND5xP9Gbh"
      },
      "execution_count": null,
      "outputs": []
    }
  ]
}