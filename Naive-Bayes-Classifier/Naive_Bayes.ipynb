{
  "nbformat": 4,
  "nbformat_minor": 0,
  "metadata": {
    "colab": {
      "name": "Naive_Bayes.ipynb",
      "provenance": []
    },
    "kernelspec": {
      "name": "python3",
      "display_name": "Python 3"
    },
    "language_info": {
      "name": "python"
    }
  },
  "cells": [
    {
      "cell_type": "code",
      "source": [
        "!curl https://raw.githubusercontent.com/Vallisha-M/ML-Lab/main/Naive-Bayes-Classifier/dataset.csv > dataset.csv"
      ],
      "metadata": {
        "id": "n0yKQZ5c5pmX",
        "colab": {
          "base_uri": "https://localhost:8080/"
        },
        "outputId": "e037a2a9-1cea-4fd8-b8b4-b3bd4394e994"
      },
      "execution_count": 1,
      "outputs": [
        {
          "output_type": "stream",
          "name": "stdout",
          "text": [
            "  % Total    % Received % Xferd  Average Speed   Time    Time     Time  Current\n",
            "                                 Dload  Upload   Total   Spent    Left  Speed\n",
            "\r  0     0    0     0    0     0      0      0 --:--:-- --:--:-- --:--:--     0\r100   419  100   419    0     0   3325      0 --:--:-- --:--:-- --:--:--  3325\n"
          ]
        }
      ]
    },
    {
      "cell_type": "code",
      "execution_count": 12,
      "metadata": {
        "id": "7Qs6rBJC0cmS"
      },
      "outputs": [],
      "source": [
        "import pandas as pd"
      ]
    },
    {
      "cell_type": "code",
      "source": [
        "dataset = pd.read_csv('dataset.csv')"
      ],
      "metadata": {
        "id": "srOvxDq15jwX"
      },
      "execution_count": 50,
      "outputs": []
    },
    {
      "cell_type": "code",
      "source": [
        "dataset"
      ],
      "metadata": {
        "colab": {
          "base_uri": "https://localhost:8080/",
          "height": 488
        },
        "id": "RSKw_r5LRmCx",
        "outputId": "b19c6c08-1f65-4302-d997-77ee388ea499"
      },
      "execution_count": 51,
      "outputs": [
        {
          "output_type": "execute_result",
          "data": {
            "text/plain": [
              "     outlook temperature humidity    wind playtennis\n",
              "0      sunny         hot     high    weak         no\n",
              "1      sunny         hot     high  strong         no\n",
              "2   overcast         hot     high    weak        yes\n",
              "3       rain        mild     high    weak        yes\n",
              "4       rain        cool   normal    weak        yes\n",
              "5       rain        cool   normal  strong         no\n",
              "6   overcast        cool   normal  strong        yes\n",
              "7      sunny        mild     high    weak         no\n",
              "8      sunny        cool   normal    weak        yes\n",
              "9       rain        mild   normal    weak        yes\n",
              "10     sunny        mild   normal  strong        yes\n",
              "11  overcast        mild     high  strong        yes\n",
              "12  overcast         hot   normal    weak        yes\n",
              "13      rain        mild     high  strong         no"
            ],
            "text/html": [
              "\n",
              "  <div id=\"df-d5c9fbb1-4a13-4a08-ac09-0fb231d2c4bc\">\n",
              "    <div class=\"colab-df-container\">\n",
              "      <div>\n",
              "<style scoped>\n",
              "    .dataframe tbody tr th:only-of-type {\n",
              "        vertical-align: middle;\n",
              "    }\n",
              "\n",
              "    .dataframe tbody tr th {\n",
              "        vertical-align: top;\n",
              "    }\n",
              "\n",
              "    .dataframe thead th {\n",
              "        text-align: right;\n",
              "    }\n",
              "</style>\n",
              "<table border=\"1\" class=\"dataframe\">\n",
              "  <thead>\n",
              "    <tr style=\"text-align: right;\">\n",
              "      <th></th>\n",
              "      <th>outlook</th>\n",
              "      <th>temperature</th>\n",
              "      <th>humidity</th>\n",
              "      <th>wind</th>\n",
              "      <th>playtennis</th>\n",
              "    </tr>\n",
              "  </thead>\n",
              "  <tbody>\n",
              "    <tr>\n",
              "      <th>0</th>\n",
              "      <td>sunny</td>\n",
              "      <td>hot</td>\n",
              "      <td>high</td>\n",
              "      <td>weak</td>\n",
              "      <td>no</td>\n",
              "    </tr>\n",
              "    <tr>\n",
              "      <th>1</th>\n",
              "      <td>sunny</td>\n",
              "      <td>hot</td>\n",
              "      <td>high</td>\n",
              "      <td>strong</td>\n",
              "      <td>no</td>\n",
              "    </tr>\n",
              "    <tr>\n",
              "      <th>2</th>\n",
              "      <td>overcast</td>\n",
              "      <td>hot</td>\n",
              "      <td>high</td>\n",
              "      <td>weak</td>\n",
              "      <td>yes</td>\n",
              "    </tr>\n",
              "    <tr>\n",
              "      <th>3</th>\n",
              "      <td>rain</td>\n",
              "      <td>mild</td>\n",
              "      <td>high</td>\n",
              "      <td>weak</td>\n",
              "      <td>yes</td>\n",
              "    </tr>\n",
              "    <tr>\n",
              "      <th>4</th>\n",
              "      <td>rain</td>\n",
              "      <td>cool</td>\n",
              "      <td>normal</td>\n",
              "      <td>weak</td>\n",
              "      <td>yes</td>\n",
              "    </tr>\n",
              "    <tr>\n",
              "      <th>5</th>\n",
              "      <td>rain</td>\n",
              "      <td>cool</td>\n",
              "      <td>normal</td>\n",
              "      <td>strong</td>\n",
              "      <td>no</td>\n",
              "    </tr>\n",
              "    <tr>\n",
              "      <th>6</th>\n",
              "      <td>overcast</td>\n",
              "      <td>cool</td>\n",
              "      <td>normal</td>\n",
              "      <td>strong</td>\n",
              "      <td>yes</td>\n",
              "    </tr>\n",
              "    <tr>\n",
              "      <th>7</th>\n",
              "      <td>sunny</td>\n",
              "      <td>mild</td>\n",
              "      <td>high</td>\n",
              "      <td>weak</td>\n",
              "      <td>no</td>\n",
              "    </tr>\n",
              "    <tr>\n",
              "      <th>8</th>\n",
              "      <td>sunny</td>\n",
              "      <td>cool</td>\n",
              "      <td>normal</td>\n",
              "      <td>weak</td>\n",
              "      <td>yes</td>\n",
              "    </tr>\n",
              "    <tr>\n",
              "      <th>9</th>\n",
              "      <td>rain</td>\n",
              "      <td>mild</td>\n",
              "      <td>normal</td>\n",
              "      <td>weak</td>\n",
              "      <td>yes</td>\n",
              "    </tr>\n",
              "    <tr>\n",
              "      <th>10</th>\n",
              "      <td>sunny</td>\n",
              "      <td>mild</td>\n",
              "      <td>normal</td>\n",
              "      <td>strong</td>\n",
              "      <td>yes</td>\n",
              "    </tr>\n",
              "    <tr>\n",
              "      <th>11</th>\n",
              "      <td>overcast</td>\n",
              "      <td>mild</td>\n",
              "      <td>high</td>\n",
              "      <td>strong</td>\n",
              "      <td>yes</td>\n",
              "    </tr>\n",
              "    <tr>\n",
              "      <th>12</th>\n",
              "      <td>overcast</td>\n",
              "      <td>hot</td>\n",
              "      <td>normal</td>\n",
              "      <td>weak</td>\n",
              "      <td>yes</td>\n",
              "    </tr>\n",
              "    <tr>\n",
              "      <th>13</th>\n",
              "      <td>rain</td>\n",
              "      <td>mild</td>\n",
              "      <td>high</td>\n",
              "      <td>strong</td>\n",
              "      <td>no</td>\n",
              "    </tr>\n",
              "  </tbody>\n",
              "</table>\n",
              "</div>\n",
              "      <button class=\"colab-df-convert\" onclick=\"convertToInteractive('df-d5c9fbb1-4a13-4a08-ac09-0fb231d2c4bc')\"\n",
              "              title=\"Convert this dataframe to an interactive table.\"\n",
              "              style=\"display:none;\">\n",
              "        \n",
              "  <svg xmlns=\"http://www.w3.org/2000/svg\" height=\"24px\"viewBox=\"0 0 24 24\"\n",
              "       width=\"24px\">\n",
              "    <path d=\"M0 0h24v24H0V0z\" fill=\"none\"/>\n",
              "    <path d=\"M18.56 5.44l.94 2.06.94-2.06 2.06-.94-2.06-.94-.94-2.06-.94 2.06-2.06.94zm-11 1L8.5 8.5l.94-2.06 2.06-.94-2.06-.94L8.5 2.5l-.94 2.06-2.06.94zm10 10l.94 2.06.94-2.06 2.06-.94-2.06-.94-.94-2.06-.94 2.06-2.06.94z\"/><path d=\"M17.41 7.96l-1.37-1.37c-.4-.4-.92-.59-1.43-.59-.52 0-1.04.2-1.43.59L10.3 9.45l-7.72 7.72c-.78.78-.78 2.05 0 2.83L4 21.41c.39.39.9.59 1.41.59.51 0 1.02-.2 1.41-.59l7.78-7.78 2.81-2.81c.8-.78.8-2.07 0-2.86zM5.41 20L4 18.59l7.72-7.72 1.47 1.35L5.41 20z\"/>\n",
              "  </svg>\n",
              "      </button>\n",
              "      \n",
              "  <style>\n",
              "    .colab-df-container {\n",
              "      display:flex;\n",
              "      flex-wrap:wrap;\n",
              "      gap: 12px;\n",
              "    }\n",
              "\n",
              "    .colab-df-convert {\n",
              "      background-color: #E8F0FE;\n",
              "      border: none;\n",
              "      border-radius: 50%;\n",
              "      cursor: pointer;\n",
              "      display: none;\n",
              "      fill: #1967D2;\n",
              "      height: 32px;\n",
              "      padding: 0 0 0 0;\n",
              "      width: 32px;\n",
              "    }\n",
              "\n",
              "    .colab-df-convert:hover {\n",
              "      background-color: #E2EBFA;\n",
              "      box-shadow: 0px 1px 2px rgba(60, 64, 67, 0.3), 0px 1px 3px 1px rgba(60, 64, 67, 0.15);\n",
              "      fill: #174EA6;\n",
              "    }\n",
              "\n",
              "    [theme=dark] .colab-df-convert {\n",
              "      background-color: #3B4455;\n",
              "      fill: #D2E3FC;\n",
              "    }\n",
              "\n",
              "    [theme=dark] .colab-df-convert:hover {\n",
              "      background-color: #434B5C;\n",
              "      box-shadow: 0px 1px 3px 1px rgba(0, 0, 0, 0.15);\n",
              "      filter: drop-shadow(0px 1px 2px rgba(0, 0, 0, 0.3));\n",
              "      fill: #FFFFFF;\n",
              "    }\n",
              "  </style>\n",
              "\n",
              "      <script>\n",
              "        const buttonEl =\n",
              "          document.querySelector('#df-d5c9fbb1-4a13-4a08-ac09-0fb231d2c4bc button.colab-df-convert');\n",
              "        buttonEl.style.display =\n",
              "          google.colab.kernel.accessAllowed ? 'block' : 'none';\n",
              "\n",
              "        async function convertToInteractive(key) {\n",
              "          const element = document.querySelector('#df-d5c9fbb1-4a13-4a08-ac09-0fb231d2c4bc');\n",
              "          const dataTable =\n",
              "            await google.colab.kernel.invokeFunction('convertToInteractive',\n",
              "                                                     [key], {});\n",
              "          if (!dataTable) return;\n",
              "\n",
              "          const docLinkHtml = 'Like what you see? Visit the ' +\n",
              "            '<a target=\"_blank\" href=https://colab.research.google.com/notebooks/data_table.ipynb>data table notebook</a>'\n",
              "            + ' to learn more about interactive tables.';\n",
              "          element.innerHTML = '';\n",
              "          dataTable['output_type'] = 'display_data';\n",
              "          await google.colab.output.renderOutput(dataTable, element);\n",
              "          const docLink = document.createElement('div');\n",
              "          docLink.innerHTML = docLinkHtml;\n",
              "          element.appendChild(docLink);\n",
              "        }\n",
              "      </script>\n",
              "    </div>\n",
              "  </div>\n",
              "  "
            ]
          },
          "metadata": {},
          "execution_count": 51
        }
      ]
    },
    {
      "cell_type": "code",
      "source": [
        "m=dataset.shape[0]"
      ],
      "metadata": {
        "id": "2PWJ7uJR9VVu"
      },
      "execution_count": 52,
      "outputs": []
    },
    {
      "cell_type": "code",
      "source": [
        "table_res={}\n",
        "\n",
        "for i in range(m):\n",
        "  if dataset.iloc[i][-1] in table_res:\n",
        "    table_res[dataset.iloc[i][-1]].append(i)\n",
        "  else:\n",
        "    table_res[dataset.iloc[i][-1]]=[i]"
      ],
      "metadata": {
        "id": "FkrVw6uTFUIf"
      },
      "execution_count": 53,
      "outputs": []
    },
    {
      "cell_type": "code",
      "source": [
        "table_res"
      ],
      "metadata": {
        "colab": {
          "base_uri": "https://localhost:8080/"
        },
        "id": "-j_aQtknFW9d",
        "outputId": "ec41575c-530e-4610-c285-d4e884be43a4"
      },
      "execution_count": 54,
      "outputs": [
        {
          "output_type": "execute_result",
          "data": {
            "text/plain": [
              "{'no': [0, 1, 5, 7, 13], 'yes': [2, 3, 4, 6, 8, 9, 10, 11, 12]}"
            ]
          },
          "metadata": {},
          "execution_count": 54
        }
      ]
    },
    {
      "cell_type": "code",
      "source": [
        "table_cols={}\n",
        "for col in dataset.columns:\n",
        "  table_cols[col]={}\n",
        "  for i in range(m):\n",
        "    if dataset.iloc[i][col] in table_cols[col]:\n",
        "      table_cols[col][dataset.iloc[i][col]]+=1\n",
        "    else:\n",
        "      table_cols[col][dataset.iloc[i][col]]=1"
      ],
      "metadata": {
        "id": "1kaDpnw3Gt82"
      },
      "execution_count": 55,
      "outputs": []
    },
    {
      "cell_type": "code",
      "source": [
        "table_cols"
      ],
      "metadata": {
        "colab": {
          "base_uri": "https://localhost:8080/"
        },
        "id": "decJvqtWHG28",
        "outputId": "e3b06734-1b1f-4df1-ab7b-b9f8d40aab1e"
      },
      "execution_count": 56,
      "outputs": [
        {
          "output_type": "execute_result",
          "data": {
            "text/plain": [
              "{'humidity': {'high': 7, 'normal': 7},\n",
              " 'outlook': {'overcast': 4, 'rain': 5, 'sunny': 5},\n",
              " 'playtennis': {'no': 5, 'yes': 9},\n",
              " 'temperature': {'cool': 4, 'hot': 4, 'mild': 6},\n",
              " 'wind': {'strong': 6, 'weak': 8}}"
            ]
          },
          "metadata": {},
          "execution_count": 56
        }
      ]
    },
    {
      "cell_type": "code",
      "source": [
        "table={}\n",
        "for col in dataset.columns[:-1]:\n",
        "  table[col]={}\n",
        "  for res in table_res:\n",
        "    table[col][res]={}\n",
        "    for value in table_cols[col]:\n",
        "      table[col][res][value]=0"
      ],
      "metadata": {
        "id": "WsMDqpv0ITgK"
      },
      "execution_count": 57,
      "outputs": []
    },
    {
      "cell_type": "code",
      "source": [
        "table"
      ],
      "metadata": {
        "colab": {
          "base_uri": "https://localhost:8080/"
        },
        "id": "sa0SOqvLI7o2",
        "outputId": "22315a34-af98-47a1-a3bc-92c6750e2a45"
      },
      "execution_count": 58,
      "outputs": [
        {
          "output_type": "execute_result",
          "data": {
            "text/plain": [
              "{'humidity': {'no': {'high': 0, 'normal': 0}, 'yes': {'high': 0, 'normal': 0}},\n",
              " 'outlook': {'no': {'overcast': 0, 'rain': 0, 'sunny': 0},\n",
              "  'yes': {'overcast': 0, 'rain': 0, 'sunny': 0}},\n",
              " 'temperature': {'no': {'cool': 0, 'hot': 0, 'mild': 0},\n",
              "  'yes': {'cool': 0, 'hot': 0, 'mild': 0}},\n",
              " 'wind': {'no': {'strong': 0, 'weak': 0}, 'yes': {'strong': 0, 'weak': 0}}}"
            ]
          },
          "metadata": {},
          "execution_count": 58
        }
      ]
    },
    {
      "cell_type": "code",
      "source": [
        "for col in dataset.columns[:-1]:\n",
        "  for res in table_res:\n",
        "    for i in table_res[res]:\n",
        "      col_value=dataset.iloc[i][col]\n",
        "      added=float(1/table_cols[col][col_value])\n",
        "      table[col][res][col_value]+=added"
      ],
      "metadata": {
        "id": "yWTZN8cb_Tcl"
      },
      "execution_count": 59,
      "outputs": []
    },
    {
      "cell_type": "code",
      "source": [
        "table"
      ],
      "metadata": {
        "colab": {
          "base_uri": "https://localhost:8080/"
        },
        "id": "QyLakNfW_c6j",
        "outputId": "d959f18c-d683-4229-d9e4-5436dcf38fe2"
      },
      "execution_count": 60,
      "outputs": [
        {
          "output_type": "execute_result",
          "data": {
            "text/plain": [
              "{'humidity': {'no': {'high': 0.5714285714285714,\n",
              "   'normal': 0.14285714285714285},\n",
              "  'yes': {'high': 0.42857142857142855, 'normal': 0.857142857142857}},\n",
              " 'outlook': {'no': {'overcast': 0, 'rain': 0.4, 'sunny': 0.6000000000000001},\n",
              "  'yes': {'overcast': 1.0, 'rain': 0.6000000000000001, 'sunny': 0.4}},\n",
              " 'temperature': {'no': {'cool': 0.25, 'hot': 0.5, 'mild': 0.3333333333333333},\n",
              "  'yes': {'cool': 0.75, 'hot': 0.5, 'mild': 0.6666666666666666}},\n",
              " 'wind': {'no': {'strong': 0.5, 'weak': 0.25},\n",
              "  'yes': {'strong': 0.5, 'weak': 0.75}}}"
            ]
          },
          "metadata": {},
          "execution_count": 60
        }
      ]
    },
    {
      "cell_type": "code",
      "source": [
        "def predict(instance, table):\n",
        "  table_answer={}\n",
        "  for res in table_res:\n",
        "    table_answer[res]=1\n",
        "    for col in instance:\n",
        "      table_answer[res]*=table[col][res][instance[col]]\n",
        "  ans_key=-1\n",
        "  ans_val=-1\n",
        "  for res in table_answer:\n",
        "    if table_answer[res]>ans_val:\n",
        "      ans_val=table_answer[res]\n",
        "      ans_key=res\n",
        "  return ans_key\n"
      ],
      "metadata": {
        "id": "DGDBa1GIQ64D"
      },
      "execution_count": 61,
      "outputs": []
    },
    {
      "cell_type": "code",
      "source": [
        "predict({\"temperature\":\"hot\",\"outlook\":\"sunny\",\"wind\":\"weak\",\"humidity\":\"high\"}, table)"
      ],
      "metadata": {
        "colab": {
          "base_uri": "https://localhost:8080/",
          "height": 35
        },
        "id": "ttSuMFAYRSYZ",
        "outputId": "9b8ddf38-3d36-4e28-87a2-807604f6a83b"
      },
      "execution_count": 62,
      "outputs": [
        {
          "output_type": "execute_result",
          "data": {
            "text/plain": [
              "'yes'"
            ],
            "application/vnd.google.colaboratory.intrinsic+json": {
              "type": "string"
            }
          },
          "metadata": {},
          "execution_count": 62
        }
      ]
    },
    {
      "cell_type": "code",
      "source": [
        "def test(path, table):\n",
        "  data=pd.read_csv(path)\n",
        "  result={\"correct\":0,\"incorrect\":0, \"confusion_matrix\":{\"tp\":0,'tn':0,\"fp\":0,\"fn\":0}}\n",
        "\n",
        "  for i in range(data.shape[0]):\n",
        "    instance={}\n",
        "    for col in data.columns[:-1]:\n",
        "      instance[col]=data.iloc[i][col]\n",
        "    predicted=predict(instance, table)\n",
        "    if predicted==data.iloc[i][-1]:\n",
        "      result['correct']+=1\n",
        "      if predicted=='no':\n",
        "        result['confusion_matrix']['tn']+=1\n",
        "      else:\n",
        "        result['confusion_matrix']['tp']+=1\n",
        "\n",
        "    else:\n",
        "      result['incorrect']+=1\n",
        "      if predicted=='no':\n",
        "        result['confusion_matrix']['fn']+=1\n",
        "      else:\n",
        "        result['confusion_matrix']['fp']+=1\n",
        "  result['accuracy']=result['correct']/(result['correct']+result['incorrect'])\n",
        "  result['precision']=result['confusion_matrix']['tp']/(result['confusion_matrix']['tp']+result['confusion_matrix']['fp'])\n",
        "  result['recall']=result['confusion_matrix']['tp']/(result['confusion_matrix']['tp']+result['confusion_matrix']['fn'])\n",
        "  result['f1']=2*result['precision']*result['recall']/(result['precision']+result['recall'])\n",
        "  return result"
      ],
      "metadata": {
        "id": "h65pg5nXRRx6"
      },
      "execution_count": 69,
      "outputs": []
    },
    {
      "cell_type": "code",
      "source": [
        "test('dataset.csv', table)"
      ],
      "metadata": {
        "colab": {
          "base_uri": "https://localhost:8080/"
        },
        "id": "NShW6aQ7SQ3S",
        "outputId": "f1c74556-7976-4e65-c843-c37d076f324f"
      },
      "execution_count": 70,
      "outputs": [
        {
          "output_type": "execute_result",
          "data": {
            "text/plain": [
              "{'accuracy': 0.7142857142857143,\n",
              " 'confusion_matrix': {'fn': 0, 'fp': 4, 'tn': 1, 'tp': 9},\n",
              " 'correct': 10,\n",
              " 'f1': 0.8181818181818181,\n",
              " 'incorrect': 4,\n",
              " 'precision': 0.6923076923076923,\n",
              " 'recall': 1.0}"
            ]
          },
          "metadata": {},
          "execution_count": 70
        }
      ]
    },
    {
      "cell_type": "markdown",
      "source": [
        "##As class"
      ],
      "metadata": {
        "id": "dU53-KASQE25"
      }
    },
    {
      "cell_type": "code",
      "source": [
        "import pandas as pd\n",
        "class NaiveBayes:\n",
        "  def __init__(self, path:str):\n",
        "    self.getTable(path)\n",
        "    \n",
        "  def getTable(self,path):\n",
        "    dataset = pd.read_csv(path)\n",
        "    m=dataset.shape[0]\n",
        "\n",
        "    table_res={}\n",
        "    for i in range(m):\n",
        "      if dataset.iloc[i][-1] in table_res:\n",
        "        table_res[dataset.iloc[i][-1]].append(i)\n",
        "      else:\n",
        "        table_res[dataset.iloc[i][-1]]=[i]\n",
        "    self.table_res=table_res\n",
        "    table_cols={}\n",
        "    for col in dataset.columns:\n",
        "      table_cols[col]={}\n",
        "      for i in range(m):\n",
        "        if dataset.iloc[i][col] in table_cols[col]:\n",
        "          table_cols[col][dataset.iloc[i][col]]+=1\n",
        "        else:\n",
        "          table_cols[col][dataset.iloc[i][col]]=1\n",
        "    self.table={}\n",
        "    for col in dataset.columns[:-1]:\n",
        "      self.table[col]={}\n",
        "      for res in table_res:\n",
        "        self.table[col][res]={}\n",
        "        for value in table_cols[col]:\n",
        "          self.table[col][res][value]=0\n",
        "    \n",
        "    for col in dataset.columns[:-1]:\n",
        "      for res in table_res:\n",
        "        for i in table_res[res]:\n",
        "          col_value=dataset.iloc[i][col]\n",
        "          added=float(1/table_cols[col][col_value])\n",
        "          self.table[col][res][col_value]+=added\n",
        "  def predict(self,instance):\n",
        "    table_answer={}\n",
        "    for res in self.table_res:\n",
        "      table_answer[res]=1\n",
        "      for col in instance:\n",
        "        table_answer[res]*=self.table[col][res][instance[col]]\n",
        "    ans_key=-1\n",
        "    ans_val=-1\n",
        "    for res in table_answer:\n",
        "      if table_answer[res]>ans_val:\n",
        "        ans_val=table_answer[res]\n",
        "        ans_key=res\n",
        "    return ans_key\n",
        "  def test(self,path):\n",
        "    data=pd.read_csv(path)\n",
        "    result={\"correct\":0,\"incorrect\":0, \"confusion_matrix\":{\"tp\":0,'tn':0,\"fp\":0,\"fn\":0}}\n",
        "\n",
        "    for i in range(data.shape[0]):\n",
        "      instance={}\n",
        "      for col in data.columns[:-1]:\n",
        "        instance[col]=data.iloc[i][col]\n",
        "      predicted=self.predict(instance)\n",
        "      if predicted==data.iloc[i][-1]:\n",
        "        result['correct']+=1\n",
        "        if predicted=='no':\n",
        "          result['confusion_matrix']['tn']+=1\n",
        "        else:\n",
        "          result['confusion_matrix']['tp']+=1\n",
        "      else:\n",
        "        if predicted=='no':\n",
        "          result['confusion_matrix']['fn']+=1\n",
        "        else:\n",
        "          result['confusion_matrix']['fp']+=1\n",
        "        result['incorrect']+=1\n",
        "\n",
        "    result['accuracy']=result['correct']/data.shape[0]\n",
        "    result['precision']=result['confusion_matrix']['tp']/(result['confusion_matrix']['tp']+result['confusion_matrix']['fp'])\n",
        "    result['recall']=result['confusion_matrix']['tp']/(result['confusion_matrix']['tp']+result['confusion_matrix']['fn'])\n",
        "    result['f1']=2*result['precision']*result['recall']/(result['precision']+result['recall'])\n",
        "\n",
        "    return result"
      ],
      "metadata": {
        "id": "NK3SbF3VE-Ve"
      },
      "execution_count": 8,
      "outputs": []
    },
    {
      "cell_type": "code",
      "source": [
        "naiveBayes=NaiveBayes('dataset.csv')"
      ],
      "metadata": {
        "id": "40pgcd3MMIPI"
      },
      "execution_count": 9,
      "outputs": []
    },
    {
      "cell_type": "code",
      "source": [
        "naiveBayes.test('dataset.csv')"
      ],
      "metadata": {
        "colab": {
          "base_uri": "https://localhost:8080/"
        },
        "id": "LmrRW1bHOcPe",
        "outputId": "ffdf3100-80b9-4056-c33c-68e8f61c76e3"
      },
      "execution_count": 10,
      "outputs": [
        {
          "output_type": "execute_result",
          "data": {
            "text/plain": [
              "{'accuracy': 0.7142857142857143,\n",
              " 'confusion_matrix': {'fn': 0, 'fp': 4, 'tn': 1, 'tp': 9},\n",
              " 'correct': 10,\n",
              " 'f1': 0.8181818181818181,\n",
              " 'incorrect': 4,\n",
              " 'precision': 0.6923076923076923,\n",
              " 'recall': 1.0}"
            ]
          },
          "metadata": {},
          "execution_count": 10
        }
      ]
    },
    {
      "cell_type": "code",
      "source": [
        ""
      ],
      "metadata": {
        "id": "86SCXZqUQSCm"
      },
      "execution_count": null,
      "outputs": []
    }
  ]
}