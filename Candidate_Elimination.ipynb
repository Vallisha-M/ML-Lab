{
  "nbformat": 4,
  "nbformat_minor": 0,
  "metadata": {
    "colab": {
      "name": "Candidate-Elimination.ipynb",
      "provenance": [],
      "authorship_tag": "ABX9TyNjxtlQHqfbLS9XHkiMLuGN"
    },
    "kernelspec": {
      "name": "python3",
      "display_name": "Python 3"
    },
    "language_info": {
      "name": "python"
    }
  },
  "cells": [
    {
      "cell_type": "code",
      "source": [
        "import pandas as pd"
      ],
      "metadata": {
        "id": "RMurbw4QopFr"
      },
      "execution_count": 25,
      "outputs": []
    },
    {
      "cell_type": "code",
      "execution_count": 26,
      "metadata": {
        "id": "ns4fTmlZnjJl"
      },
      "outputs": [],
      "source": [
        "def is_consistent(h1:list,h2:list,n:int)->bool:\n",
        "  i=0\n",
        "  while i<n:\n",
        "    if h1[i]=='?' or h2[i]=='?':\n",
        "      i+=1\n",
        "      continue\n",
        "    if h1[i]!=h2[i]:\n",
        "      return False\n",
        "    i+=1\n",
        "  return True"
      ]
    },
    {
      "cell_type": "code",
      "source": [
        "dataset=pd.read_csv('dataset.csv')\n",
        "n=dataset.shape[1]\n",
        "m=dataset.shape[0]\n",
        "G = [['?' for _ in range(n-1)]]\n",
        "S = ['phi' for _ in range(n-1)]"
      ],
      "metadata": {
        "id": "c_Hayy_cu5hk"
      },
      "execution_count": 27,
      "outputs": []
    },
    {
      "cell_type": "code",
      "source": [
        "values=[[] for _ in range(n-1)]\n",
        "for i in range(m):\n",
        "  changed=False\n",
        "  for j in range(n-1):\n",
        "    if len(values[j])<2:\n",
        "      changed=True\n",
        "      if len(values[j])==0 or values[j][0]!=dataset.iloc[i][j]:\n",
        "        values[j].append(dataset.iloc[i][j])\n",
        "  if not changed:\n",
        "    break"
      ],
      "metadata": {
        "id": "I4aF2uMxpsPS"
      },
      "execution_count": 28,
      "outputs": []
    },
    {
      "cell_type": "code",
      "source": [
        "for i in range(m):\n",
        "  if dataset.iloc[i][-1].lower()=='yes':\n",
        "      for g in G:\n",
        "        if not is_consistent(dataset.iloc[i][0:-1],g,n-1):\n",
        "          G.remove(g)\n",
        "      for j in range(n-1):\n",
        "        if S[j]=='phi':\n",
        "          S[j]=dataset.iloc[i][j]\n",
        "        elif S[j]!=dataset.iloc[i][j]:\n",
        "          S[j]='?'\n",
        "  if dataset.iloc[i][-1].lower()=='no':\n",
        "    for g in G:\n",
        "      if is_consistent(dataset.iloc[i][0:-1],g,n-1):\n",
        "        for j in range(n-1):\n",
        "          if g[j]=='?':\n",
        "            new_g=g.copy()\n",
        "            if values[j][0]==dataset.iloc[i][j]:\n",
        "              new_g[j]=values[j][1]\n",
        "            else:\n",
        "              new_g[j]=values[j][0]\n",
        "            G.append(new_g)\n",
        "        G.remove(g)\n",
        "print(S)\n",
        "print(G)"
      ],
      "metadata": {
        "colab": {
          "base_uri": "https://localhost:8080/"
        },
        "id": "Cui_PtvLrziI",
        "outputId": "5a8ec0d9-dd45-4357-efc7-e72b3c935cd8"
      },
      "execution_count": 36,
      "outputs": [
        {
          "output_type": "stream",
          "name": "stdout",
          "text": [
            "['small', '?', 'circle']\n",
            "[['small', '?', 'circle']]\n"
          ]
        }
      ]
    }
  ]
}