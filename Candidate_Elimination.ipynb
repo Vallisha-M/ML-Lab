{
 "cells": [
  {
   "cell_type": "code",
   "execution_count": 18,
   "metadata": {
    "id": "RMurbw4QopFr"
   },
   "outputs": [],
   "source": [
    "import pandas as pd"
   ]
  },
  {
   "cell_type": "code",
   "execution_count": 19,
   "metadata": {
    "id": "ns4fTmlZnjJl"
   },
   "outputs": [],
   "source": [
    "def is_consistent(h1:list,h2:list,n:int)->bool:\n",
    "  i=0\n",
    "  while i<n:\n",
    "    if h1[i]=='?' or h2[i]=='?':\n",
    "      i+=1\n",
    "      continue\n",
    "    if h1[i]!=h2[i]:\n",
    "      return False\n",
    "    i+=1\n",
    "  return True"
   ]
  },
  {
   "cell_type": "code",
   "execution_count": 43,
   "metadata": {
    "id": "c_Hayy_cu5hk"
   },
   "outputs": [],
   "source": [
    "dataset=pd.read_csv('dataset_library.csv')\n",
    "n=dataset.shape[1]\n",
    "m=dataset.shape[0]"
   ]
  },
  {
   "cell_type": "code",
   "execution_count": 44,
   "metadata": {
    "colab": {
     "base_uri": "https://localhost:8080/",
     "height": 206
    },
    "id": "F3uJX4wg1ztB",
    "outputId": "5dd9aa95-a303-4934-ab43-f94082eeb98b"
   },
   "outputs": [
    {
     "data": {
      "text/html": [
       "<div>\n",
       "<style scoped>\n",
       "    .dataframe tbody tr th:only-of-type {\n",
       "        vertical-align: middle;\n",
       "    }\n",
       "\n",
       "    .dataframe tbody tr th {\n",
       "        vertical-align: top;\n",
       "    }\n",
       "\n",
       "    .dataframe thead th {\n",
       "        text-align: right;\n",
       "    }\n",
       "</style>\n",
       "<table border=\"1\" class=\"dataframe\">\n",
       "  <thead>\n",
       "    <tr style=\"text-align: right;\">\n",
       "      <th></th>\n",
       "      <th>citations</th>\n",
       "      <th>size</th>\n",
       "      <th>inLibrary</th>\n",
       "      <th>Price</th>\n",
       "      <th>Editions</th>\n",
       "      <th>Buy</th>\n",
       "    </tr>\n",
       "  </thead>\n",
       "  <tbody>\n",
       "    <tr>\n",
       "      <th>0</th>\n",
       "      <td>many</td>\n",
       "      <td>big</td>\n",
       "      <td>no</td>\n",
       "      <td>expensive</td>\n",
       "      <td>many</td>\n",
       "      <td>yes</td>\n",
       "    </tr>\n",
       "    <tr>\n",
       "      <th>1</th>\n",
       "      <td>some</td>\n",
       "      <td>small</td>\n",
       "      <td>no</td>\n",
       "      <td>affordable</td>\n",
       "      <td>one</td>\n",
       "      <td>no</td>\n",
       "    </tr>\n",
       "    <tr>\n",
       "      <th>2</th>\n",
       "      <td>many</td>\n",
       "      <td>small</td>\n",
       "      <td>yes</td>\n",
       "      <td>affordable</td>\n",
       "      <td>many</td>\n",
       "      <td>yes</td>\n",
       "    </tr>\n",
       "    <tr>\n",
       "      <th>3</th>\n",
       "      <td>many</td>\n",
       "      <td>small</td>\n",
       "      <td>no</td>\n",
       "      <td>expensive</td>\n",
       "      <td>many</td>\n",
       "      <td>yes</td>\n",
       "    </tr>\n",
       "  </tbody>\n",
       "</table>\n",
       "</div>"
      ],
      "text/plain": [
       "  citations   size inLibrary       Price Editions  Buy\n",
       "0      many    big        no   expensive     many  yes\n",
       "1      some  small        no  affordable      one   no\n",
       "2      many  small       yes  affordable     many  yes\n",
       "3      many  small        no   expensive     many  yes"
      ]
     },
     "execution_count": 44,
     "metadata": {},
     "output_type": "execute_result"
    }
   ],
   "source": [
    "dataset"
   ]
  },
  {
   "cell_type": "code",
   "execution_count": 45,
   "metadata": {
    "id": "I4aF2uMxpsPS"
   },
   "outputs": [],
   "source": [
    "values=[[] for _ in range(n-1)]\n",
    "for i in range(m):\n",
    "  changed=False\n",
    "  for j in range(n-1):\n",
    "    if len(values[j])<2:\n",
    "      changed=True\n",
    "      if len(values[j])==0 or values[j][0]!=dataset.iloc[i][j]:\n",
    "        values[j].append(dataset.iloc[i][j])\n",
    "  if not changed:\n",
    "    break"
   ]
  },
  {
   "cell_type": "code",
   "execution_count": 46,
   "metadata": {},
   "outputs": [
    {
     "data": {
      "text/plain": [
       "[['many', 'some'],\n",
       " ['big', 'small'],\n",
       " ['no', 'yes'],\n",
       " ['expensive', 'affordable'],\n",
       " ['many', 'one']]"
      ]
     },
     "execution_count": 46,
     "metadata": {},
     "output_type": "execute_result"
    }
   ],
   "source": [
    "values"
   ]
  },
  {
   "cell_type": "code",
   "execution_count": 47,
   "metadata": {
    "colab": {
     "base_uri": "https://localhost:8080/"
    },
    "id": "Cui_PtvLrziI",
    "outputId": "8928d027-1f1b-4493-8ddc-4d80e0a70d79"
   },
   "outputs": [
    {
     "name": "stdout",
     "output_type": "stream",
     "text": [
      "G0 : [['?', '?', '?', '?', '?']]\n",
      "S0 : ['many', 'big', 'no', 'expensive', 'many']\n",
      "G1 : [['many', '?', '?', '?', '?'], ['?', 'big', '?', '?', '?'], ['?', '?', 'yes', '?', '?'], ['?', '?', '?', 'expensive', '?'], ['?', '?', '?', '?', 'many']]\n",
      "S1 : ['many', 'big', 'no', 'expensive', 'many']\n",
      "G2 : [['many', '?', '?', '?', '?'], ['?', '?', 'yes', '?', '?'], ['?', '?', '?', '?', 'many']]\n",
      "S2 : ['many', '?', '?', '?', 'many']\n",
      "G3 : [['many', '?', '?', '?', '?'], ['?', '?', '?', '?', 'many']]\n",
      "S3 : ['many', '?', '?', '?', 'many']\n",
      "\n",
      "\n",
      "S : ['many', '?', '?', '?', 'many']\n",
      "G : [['many', '?', '?', '?', '?'], ['?', '?', '?', '?', 'many']]\n"
     ]
    }
   ],
   "source": [
    "G = [['?' for _ in range(n-1)]]\n",
    "S = ['phi' for _ in range(n-1)]\n",
    "for i in range(m):\n",
    "  if dataset.iloc[i][-1].lower()=='yes':\n",
    "    x=0\n",
    "    l=len(G)\n",
    "    while x<l:\n",
    "      g=G[x]\n",
    "      increment=True\n",
    "      if not is_consistent(dataset.iloc[i][0:-1].values.tolist(),g,n-1):\n",
    "        G.remove(g)\n",
    "        l-=1\n",
    "        increment=False\n",
    "      if increment:\n",
    "        x+=1\n",
    "    for j in range(n-1):\n",
    "      if S[j]=='phi':\n",
    "        S[j]=dataset.iloc[i][j]\n",
    "      elif S[j]!=dataset.iloc[i][j]:\n",
    "        S[j]='?'\n",
    "    \n",
    "  elif dataset.iloc[i][-1].lower()=='no':\n",
    "    x=0\n",
    "    l=len(G)\n",
    "    while x<l:\n",
    "      g=G[x]\n",
    "      if is_consistent(dataset.iloc[i][0:-1].values.tolist(),g,n-1):\n",
    "        for j in range(n-1):\n",
    "          if g[j]=='?':\n",
    "            new_g=g.copy()\n",
    "            if len(values[j])==1:\n",
    "              continue\n",
    "            if values[j][0]==dataset.iloc[i][j]:\n",
    "              new_g[j]=values[j][1]\n",
    "            else:\n",
    "              new_g[j]=values[j][0]\n",
    "            G.append(new_g)\n",
    "        G.remove(g)\n",
    "        l-=1\n",
    "      else:\n",
    "        x+=1\n",
    "  else:\n",
    "    print(\"Data Entry Error\")\n",
    "    exit(0)\n",
    "  print(f\"G{i} :\", G)\n",
    "  print(f\"S{i} :\", S)\n",
    "print('\\n\\nS :',S)\n",
    "print('G :',G)"
   ]
  },
  {
   "cell_type": "code",
   "execution_count": 48,
   "metadata": {},
   "outputs": [],
   "source": [
    "def find(l:list,k:list)->int:\n",
    "    for v,i in enumerate(l):\n",
    "        if i==k:\n",
    "            return v\n",
    "    return -1"
   ]
  },
  {
   "cell_type": "code",
   "execution_count": 49,
   "metadata": {},
   "outputs": [
    {
     "name": "stdout",
     "output_type": "stream",
     "text": [
      "Middle Layer : [['many', '?', '?', '?', 'many']]\n"
     ]
    }
   ],
   "source": [
    "middle=[]\n",
    "for g in G:\n",
    "    for i in range(n-1):\n",
    "        if g[i]!=S[i]:\n",
    "            x=g.copy()\n",
    "            x[i]=S[i]\n",
    "            if find(middle,x)==-1:\n",
    "                middle.append(x)\n",
    "print(\"Middle Layer :\",middle)"
   ]
  },
  {
   "cell_type": "code",
   "execution_count": null,
   "metadata": {},
   "outputs": [],
   "source": []
  }
 ],
 "metadata": {
  "colab": {
   "name": "Candidate-Elimination.ipynb",
   "provenance": []
  },
  "kernelspec": {
   "display_name": "Python 3 (ipykernel)",
   "language": "python",
   "name": "python3"
  },
  "language_info": {
   "codemirror_mode": {
    "name": "ipython",
    "version": 3
   },
   "file_extension": ".py",
   "mimetype": "text/x-python",
   "name": "python",
   "nbconvert_exporter": "python",
   "pygments_lexer": "ipython3",
   "version": "3.9.7"
  }
 },
 "nbformat": 4,
 "nbformat_minor": 1
}
