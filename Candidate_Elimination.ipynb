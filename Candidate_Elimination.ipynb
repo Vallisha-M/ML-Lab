{
  "nbformat": 4,
  "nbformat_minor": 0,
  "metadata": {
    "colab": {
      "name": "Candidate-Elimination.ipynb",
      "provenance": [],
      "authorship_tag": "ABX9TyORD7uunaqph8ZfHBEKP3D3"
    },
    "kernelspec": {
      "name": "python3",
      "display_name": "Python 3"
    },
    "language_info": {
      "name": "python"
    }
  },
  "cells": [
    {
      "cell_type": "code",
      "source": [
        "import pandas as pd"
      ],
      "metadata": {
        "id": "RMurbw4QopFr"
      },
      "execution_count": 25,
      "outputs": []
    },
    {
      "cell_type": "code",
      "execution_count": 26,
      "metadata": {
        "id": "ns4fTmlZnjJl"
      },
      "outputs": [],
      "source": [
        "def is_consistent(h1:list,h2:list,n:int)->bool:\n",
        "  i=0\n",
        "  while i<n:\n",
        "    if h1[i]=='?' or h2[i]=='?':\n",
        "      i+=1\n",
        "      continue\n",
        "    if h1[i]!=h2[i]:\n",
        "      return False\n",
        "    i+=1\n",
        "  return True"
      ]
    },
    {
      "cell_type": "code",
      "source": [
        "dataset=pd.read_csv('dataset.csv')\n",
        "n=dataset.shape[1]\n",
        "m=dataset.shape[0]\n",
        "G = [['?' for _ in range(n-1)]]\n",
        "S = ['phi' for _ in range(n-1)]"
      ],
      "metadata": {
        "id": "c_Hayy_cu5hk"
      },
      "execution_count": 27,
      "outputs": []
    },
    {
      "cell_type": "code",
      "source": [
        "dataset"
      ],
      "metadata": {
        "colab": {
          "base_uri": "https://localhost:8080/",
          "height": 206
        },
        "id": "F3uJX4wg1ztB",
        "outputId": "2c762595-95e1-4852-d216-de937d01f656"
      },
      "execution_count": 37,
      "outputs": [
        {
          "output_type": "execute_result",
          "data": {
            "text/plain": [
              "    size color     shape label\n",
              "0    big   red    circle    no\n",
              "1  small   red  triangle    no\n",
              "2  small   red    circle   yes\n",
              "3    big  blue    circle    no\n",
              "4  small  blue    circle   yes"
            ],
            "text/html": [
              "\n",
              "  <div id=\"df-a6a8b73b-1eea-4761-a082-498220c60077\">\n",
              "    <div class=\"colab-df-container\">\n",
              "      <div>\n",
              "<style scoped>\n",
              "    .dataframe tbody tr th:only-of-type {\n",
              "        vertical-align: middle;\n",
              "    }\n",
              "\n",
              "    .dataframe tbody tr th {\n",
              "        vertical-align: top;\n",
              "    }\n",
              "\n",
              "    .dataframe thead th {\n",
              "        text-align: right;\n",
              "    }\n",
              "</style>\n",
              "<table border=\"1\" class=\"dataframe\">\n",
              "  <thead>\n",
              "    <tr style=\"text-align: right;\">\n",
              "      <th></th>\n",
              "      <th>size</th>\n",
              "      <th>color</th>\n",
              "      <th>shape</th>\n",
              "      <th>label</th>\n",
              "    </tr>\n",
              "  </thead>\n",
              "  <tbody>\n",
              "    <tr>\n",
              "      <th>0</th>\n",
              "      <td>big</td>\n",
              "      <td>red</td>\n",
              "      <td>circle</td>\n",
              "      <td>no</td>\n",
              "    </tr>\n",
              "    <tr>\n",
              "      <th>1</th>\n",
              "      <td>small</td>\n",
              "      <td>red</td>\n",
              "      <td>triangle</td>\n",
              "      <td>no</td>\n",
              "    </tr>\n",
              "    <tr>\n",
              "      <th>2</th>\n",
              "      <td>small</td>\n",
              "      <td>red</td>\n",
              "      <td>circle</td>\n",
              "      <td>yes</td>\n",
              "    </tr>\n",
              "    <tr>\n",
              "      <th>3</th>\n",
              "      <td>big</td>\n",
              "      <td>blue</td>\n",
              "      <td>circle</td>\n",
              "      <td>no</td>\n",
              "    </tr>\n",
              "    <tr>\n",
              "      <th>4</th>\n",
              "      <td>small</td>\n",
              "      <td>blue</td>\n",
              "      <td>circle</td>\n",
              "      <td>yes</td>\n",
              "    </tr>\n",
              "  </tbody>\n",
              "</table>\n",
              "</div>\n",
              "      <button class=\"colab-df-convert\" onclick=\"convertToInteractive('df-a6a8b73b-1eea-4761-a082-498220c60077')\"\n",
              "              title=\"Convert this dataframe to an interactive table.\"\n",
              "              style=\"display:none;\">\n",
              "        \n",
              "  <svg xmlns=\"http://www.w3.org/2000/svg\" height=\"24px\"viewBox=\"0 0 24 24\"\n",
              "       width=\"24px\">\n",
              "    <path d=\"M0 0h24v24H0V0z\" fill=\"none\"/>\n",
              "    <path d=\"M18.56 5.44l.94 2.06.94-2.06 2.06-.94-2.06-.94-.94-2.06-.94 2.06-2.06.94zm-11 1L8.5 8.5l.94-2.06 2.06-.94-2.06-.94L8.5 2.5l-.94 2.06-2.06.94zm10 10l.94 2.06.94-2.06 2.06-.94-2.06-.94-.94-2.06-.94 2.06-2.06.94z\"/><path d=\"M17.41 7.96l-1.37-1.37c-.4-.4-.92-.59-1.43-.59-.52 0-1.04.2-1.43.59L10.3 9.45l-7.72 7.72c-.78.78-.78 2.05 0 2.83L4 21.41c.39.39.9.59 1.41.59.51 0 1.02-.2 1.41-.59l7.78-7.78 2.81-2.81c.8-.78.8-2.07 0-2.86zM5.41 20L4 18.59l7.72-7.72 1.47 1.35L5.41 20z\"/>\n",
              "  </svg>\n",
              "      </button>\n",
              "      \n",
              "  <style>\n",
              "    .colab-df-container {\n",
              "      display:flex;\n",
              "      flex-wrap:wrap;\n",
              "      gap: 12px;\n",
              "    }\n",
              "\n",
              "    .colab-df-convert {\n",
              "      background-color: #E8F0FE;\n",
              "      border: none;\n",
              "      border-radius: 50%;\n",
              "      cursor: pointer;\n",
              "      display: none;\n",
              "      fill: #1967D2;\n",
              "      height: 32px;\n",
              "      padding: 0 0 0 0;\n",
              "      width: 32px;\n",
              "    }\n",
              "\n",
              "    .colab-df-convert:hover {\n",
              "      background-color: #E2EBFA;\n",
              "      box-shadow: 0px 1px 2px rgba(60, 64, 67, 0.3), 0px 1px 3px 1px rgba(60, 64, 67, 0.15);\n",
              "      fill: #174EA6;\n",
              "    }\n",
              "\n",
              "    [theme=dark] .colab-df-convert {\n",
              "      background-color: #3B4455;\n",
              "      fill: #D2E3FC;\n",
              "    }\n",
              "\n",
              "    [theme=dark] .colab-df-convert:hover {\n",
              "      background-color: #434B5C;\n",
              "      box-shadow: 0px 1px 3px 1px rgba(0, 0, 0, 0.15);\n",
              "      filter: drop-shadow(0px 1px 2px rgba(0, 0, 0, 0.3));\n",
              "      fill: #FFFFFF;\n",
              "    }\n",
              "  </style>\n",
              "\n",
              "      <script>\n",
              "        const buttonEl =\n",
              "          document.querySelector('#df-a6a8b73b-1eea-4761-a082-498220c60077 button.colab-df-convert');\n",
              "        buttonEl.style.display =\n",
              "          google.colab.kernel.accessAllowed ? 'block' : 'none';\n",
              "\n",
              "        async function convertToInteractive(key) {\n",
              "          const element = document.querySelector('#df-a6a8b73b-1eea-4761-a082-498220c60077');\n",
              "          const dataTable =\n",
              "            await google.colab.kernel.invokeFunction('convertToInteractive',\n",
              "                                                     [key], {});\n",
              "          if (!dataTable) return;\n",
              "\n",
              "          const docLinkHtml = 'Like what you see? Visit the ' +\n",
              "            '<a target=\"_blank\" href=https://colab.research.google.com/notebooks/data_table.ipynb>data table notebook</a>'\n",
              "            + ' to learn more about interactive tables.';\n",
              "          element.innerHTML = '';\n",
              "          dataTable['output_type'] = 'display_data';\n",
              "          await google.colab.output.renderOutput(dataTable, element);\n",
              "          const docLink = document.createElement('div');\n",
              "          docLink.innerHTML = docLinkHtml;\n",
              "          element.appendChild(docLink);\n",
              "        }\n",
              "      </script>\n",
              "    </div>\n",
              "  </div>\n",
              "  "
            ]
          },
          "metadata": {},
          "execution_count": 37
        }
      ]
    },
    {
      "cell_type": "code",
      "source": [
        "values=[[] for _ in range(n-1)]\n",
        "for i in range(m):\n",
        "  changed=False\n",
        "  for j in range(n-1):\n",
        "    if len(values[j])<2:\n",
        "      changed=True\n",
        "      if len(values[j])==0 or values[j][0]!=dataset.iloc[i][j]:\n",
        "        values[j].append(dataset.iloc[i][j])\n",
        "  if not changed:\n",
        "    break"
      ],
      "metadata": {
        "id": "I4aF2uMxpsPS"
      },
      "execution_count": 28,
      "outputs": []
    },
    {
      "cell_type": "code",
      "source": [
        "for i in range(m):\n",
        "  if dataset.iloc[i][-1].lower()=='yes':\n",
        "      for g in G:\n",
        "        if not is_consistent(dataset.iloc[i][0:-1],g,n-1):\n",
        "          G.remove(g)\n",
        "      for j in range(n-1):\n",
        "        if S[j]=='phi':\n",
        "          S[j]=dataset.iloc[i][j]\n",
        "        elif S[j]!=dataset.iloc[i][j]:\n",
        "          S[j]='?'\n",
        "  if dataset.iloc[i][-1].lower()=='no':\n",
        "    for g in G:\n",
        "      if is_consistent(dataset.iloc[i][0:-1],g,n-1):\n",
        "        for j in range(n-1):\n",
        "          if g[j]=='?':\n",
        "            new_g=g.copy()\n",
        "            if values[j][0]==dataset.iloc[i][j]:\n",
        "              new_g[j]=values[j][1]\n",
        "            else:\n",
        "              new_g[j]=values[j][0]\n",
        "            G.append(new_g)\n",
        "        G.remove(g)\n",
        "print(S)\n",
        "print(G)"
      ],
      "metadata": {
        "colab": {
          "base_uri": "https://localhost:8080/"
        },
        "id": "Cui_PtvLrziI",
        "outputId": "5a8ec0d9-dd45-4357-efc7-e72b3c935cd8"
      },
      "execution_count": 36,
      "outputs": [
        {
          "output_type": "stream",
          "name": "stdout",
          "text": [
            "['small', '?', 'circle']\n",
            "[['small', '?', 'circle']]\n"
          ]
        }
      ]
    }
  ]
}