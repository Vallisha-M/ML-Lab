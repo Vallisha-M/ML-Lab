{
  "cells": [
    {
      "cell_type": "code",
      "execution_count": 92,
      "metadata": {
        "id": "nhfNwjWpwNym"
      },
      "outputs": [],
      "source": [
        "import pandas as pd\n",
        "import math"
      ]
    },
    {
      "cell_type": "code",
      "execution_count": 93,
      "metadata": {
        "id": "wd-06pUywkqS"
      },
      "outputs": [],
      "source": [
        "data=pd.read_csv('dataset_id3.csv')"
      ]
    },
    {
      "cell_type": "code",
      "execution_count": 94,
      "metadata": {
        "colab": {
          "base_uri": "https://localhost:8080/",
          "height": 488
        },
        "id": "UGmO_lQI6OEp",
        "outputId": "5042cde4-7d0e-4528-8ca0-06986746af7d"
      },
      "outputs": [
        {
          "output_type": "execute_result",
          "data": {
            "text/plain": [
              "     outlook temperature humidity    wind playtennis\n",
              "0      sunny         hot     high    weak         no\n",
              "1      sunny         hot     high  strong         no\n",
              "2   overcast         hot     high    weak        yes\n",
              "3       rain        mild     high    weak        yes\n",
              "4       rain        cool   normal    weak        yes\n",
              "5       rain        cool   normal  strong         no\n",
              "6   overcast        cool   normal  strong        yes\n",
              "7      sunny        mild     high    weak         no\n",
              "8      sunny        cool   normal    weak        yes\n",
              "9       rain        mild   normal    weak        yes\n",
              "10     sunny        mild   normal  strong        yes\n",
              "11  overcast        mild     high  strong        yes\n",
              "12  overcast         hot   normal    weak        yes\n",
              "13      rain        mild     high  strong         no"
            ],
            "text/html": [
              "\n",
              "  <div id=\"df-bafdb49a-f548-472c-90dc-afb44a8d9209\">\n",
              "    <div class=\"colab-df-container\">\n",
              "      <div>\n",
              "<style scoped>\n",
              "    .dataframe tbody tr th:only-of-type {\n",
              "        vertical-align: middle;\n",
              "    }\n",
              "\n",
              "    .dataframe tbody tr th {\n",
              "        vertical-align: top;\n",
              "    }\n",
              "\n",
              "    .dataframe thead th {\n",
              "        text-align: right;\n",
              "    }\n",
              "</style>\n",
              "<table border=\"1\" class=\"dataframe\">\n",
              "  <thead>\n",
              "    <tr style=\"text-align: right;\">\n",
              "      <th></th>\n",
              "      <th>outlook</th>\n",
              "      <th>temperature</th>\n",
              "      <th>humidity</th>\n",
              "      <th>wind</th>\n",
              "      <th>playtennis</th>\n",
              "    </tr>\n",
              "  </thead>\n",
              "  <tbody>\n",
              "    <tr>\n",
              "      <th>0</th>\n",
              "      <td>sunny</td>\n",
              "      <td>hot</td>\n",
              "      <td>high</td>\n",
              "      <td>weak</td>\n",
              "      <td>no</td>\n",
              "    </tr>\n",
              "    <tr>\n",
              "      <th>1</th>\n",
              "      <td>sunny</td>\n",
              "      <td>hot</td>\n",
              "      <td>high</td>\n",
              "      <td>strong</td>\n",
              "      <td>no</td>\n",
              "    </tr>\n",
              "    <tr>\n",
              "      <th>2</th>\n",
              "      <td>overcast</td>\n",
              "      <td>hot</td>\n",
              "      <td>high</td>\n",
              "      <td>weak</td>\n",
              "      <td>yes</td>\n",
              "    </tr>\n",
              "    <tr>\n",
              "      <th>3</th>\n",
              "      <td>rain</td>\n",
              "      <td>mild</td>\n",
              "      <td>high</td>\n",
              "      <td>weak</td>\n",
              "      <td>yes</td>\n",
              "    </tr>\n",
              "    <tr>\n",
              "      <th>4</th>\n",
              "      <td>rain</td>\n",
              "      <td>cool</td>\n",
              "      <td>normal</td>\n",
              "      <td>weak</td>\n",
              "      <td>yes</td>\n",
              "    </tr>\n",
              "    <tr>\n",
              "      <th>5</th>\n",
              "      <td>rain</td>\n",
              "      <td>cool</td>\n",
              "      <td>normal</td>\n",
              "      <td>strong</td>\n",
              "      <td>no</td>\n",
              "    </tr>\n",
              "    <tr>\n",
              "      <th>6</th>\n",
              "      <td>overcast</td>\n",
              "      <td>cool</td>\n",
              "      <td>normal</td>\n",
              "      <td>strong</td>\n",
              "      <td>yes</td>\n",
              "    </tr>\n",
              "    <tr>\n",
              "      <th>7</th>\n",
              "      <td>sunny</td>\n",
              "      <td>mild</td>\n",
              "      <td>high</td>\n",
              "      <td>weak</td>\n",
              "      <td>no</td>\n",
              "    </tr>\n",
              "    <tr>\n",
              "      <th>8</th>\n",
              "      <td>sunny</td>\n",
              "      <td>cool</td>\n",
              "      <td>normal</td>\n",
              "      <td>weak</td>\n",
              "      <td>yes</td>\n",
              "    </tr>\n",
              "    <tr>\n",
              "      <th>9</th>\n",
              "      <td>rain</td>\n",
              "      <td>mild</td>\n",
              "      <td>normal</td>\n",
              "      <td>weak</td>\n",
              "      <td>yes</td>\n",
              "    </tr>\n",
              "    <tr>\n",
              "      <th>10</th>\n",
              "      <td>sunny</td>\n",
              "      <td>mild</td>\n",
              "      <td>normal</td>\n",
              "      <td>strong</td>\n",
              "      <td>yes</td>\n",
              "    </tr>\n",
              "    <tr>\n",
              "      <th>11</th>\n",
              "      <td>overcast</td>\n",
              "      <td>mild</td>\n",
              "      <td>high</td>\n",
              "      <td>strong</td>\n",
              "      <td>yes</td>\n",
              "    </tr>\n",
              "    <tr>\n",
              "      <th>12</th>\n",
              "      <td>overcast</td>\n",
              "      <td>hot</td>\n",
              "      <td>normal</td>\n",
              "      <td>weak</td>\n",
              "      <td>yes</td>\n",
              "    </tr>\n",
              "    <tr>\n",
              "      <th>13</th>\n",
              "      <td>rain</td>\n",
              "      <td>mild</td>\n",
              "      <td>high</td>\n",
              "      <td>strong</td>\n",
              "      <td>no</td>\n",
              "    </tr>\n",
              "  </tbody>\n",
              "</table>\n",
              "</div>\n",
              "      <button class=\"colab-df-convert\" onclick=\"convertToInteractive('df-bafdb49a-f548-472c-90dc-afb44a8d9209')\"\n",
              "              title=\"Convert this dataframe to an interactive table.\"\n",
              "              style=\"display:none;\">\n",
              "        \n",
              "  <svg xmlns=\"http://www.w3.org/2000/svg\" height=\"24px\"viewBox=\"0 0 24 24\"\n",
              "       width=\"24px\">\n",
              "    <path d=\"M0 0h24v24H0V0z\" fill=\"none\"/>\n",
              "    <path d=\"M18.56 5.44l.94 2.06.94-2.06 2.06-.94-2.06-.94-.94-2.06-.94 2.06-2.06.94zm-11 1L8.5 8.5l.94-2.06 2.06-.94-2.06-.94L8.5 2.5l-.94 2.06-2.06.94zm10 10l.94 2.06.94-2.06 2.06-.94-2.06-.94-.94-2.06-.94 2.06-2.06.94z\"/><path d=\"M17.41 7.96l-1.37-1.37c-.4-.4-.92-.59-1.43-.59-.52 0-1.04.2-1.43.59L10.3 9.45l-7.72 7.72c-.78.78-.78 2.05 0 2.83L4 21.41c.39.39.9.59 1.41.59.51 0 1.02-.2 1.41-.59l7.78-7.78 2.81-2.81c.8-.78.8-2.07 0-2.86zM5.41 20L4 18.59l7.72-7.72 1.47 1.35L5.41 20z\"/>\n",
              "  </svg>\n",
              "      </button>\n",
              "      \n",
              "  <style>\n",
              "    .colab-df-container {\n",
              "      display:flex;\n",
              "      flex-wrap:wrap;\n",
              "      gap: 12px;\n",
              "    }\n",
              "\n",
              "    .colab-df-convert {\n",
              "      background-color: #E8F0FE;\n",
              "      border: none;\n",
              "      border-radius: 50%;\n",
              "      cursor: pointer;\n",
              "      display: none;\n",
              "      fill: #1967D2;\n",
              "      height: 32px;\n",
              "      padding: 0 0 0 0;\n",
              "      width: 32px;\n",
              "    }\n",
              "\n",
              "    .colab-df-convert:hover {\n",
              "      background-color: #E2EBFA;\n",
              "      box-shadow: 0px 1px 2px rgba(60, 64, 67, 0.3), 0px 1px 3px 1px rgba(60, 64, 67, 0.15);\n",
              "      fill: #174EA6;\n",
              "    }\n",
              "\n",
              "    [theme=dark] .colab-df-convert {\n",
              "      background-color: #3B4455;\n",
              "      fill: #D2E3FC;\n",
              "    }\n",
              "\n",
              "    [theme=dark] .colab-df-convert:hover {\n",
              "      background-color: #434B5C;\n",
              "      box-shadow: 0px 1px 3px 1px rgba(0, 0, 0, 0.15);\n",
              "      filter: drop-shadow(0px 1px 2px rgba(0, 0, 0, 0.3));\n",
              "      fill: #FFFFFF;\n",
              "    }\n",
              "  </style>\n",
              "\n",
              "      <script>\n",
              "        const buttonEl =\n",
              "          document.querySelector('#df-bafdb49a-f548-472c-90dc-afb44a8d9209 button.colab-df-convert');\n",
              "        buttonEl.style.display =\n",
              "          google.colab.kernel.accessAllowed ? 'block' : 'none';\n",
              "\n",
              "        async function convertToInteractive(key) {\n",
              "          const element = document.querySelector('#df-bafdb49a-f548-472c-90dc-afb44a8d9209');\n",
              "          const dataTable =\n",
              "            await google.colab.kernel.invokeFunction('convertToInteractive',\n",
              "                                                     [key], {});\n",
              "          if (!dataTable) return;\n",
              "\n",
              "          const docLinkHtml = 'Like what you see? Visit the ' +\n",
              "            '<a target=\"_blank\" href=https://colab.research.google.com/notebooks/data_table.ipynb>data table notebook</a>'\n",
              "            + ' to learn more about interactive tables.';\n",
              "          element.innerHTML = '';\n",
              "          dataTable['output_type'] = 'display_data';\n",
              "          await google.colab.output.renderOutput(dataTable, element);\n",
              "          const docLink = document.createElement('div');\n",
              "          docLink.innerHTML = docLinkHtml;\n",
              "          element.appendChild(docLink);\n",
              "        }\n",
              "      </script>\n",
              "    </div>\n",
              "  </div>\n",
              "  "
            ]
          },
          "metadata": {},
          "execution_count": 94
        }
      ],
      "source": [
        "data"
      ]
    },
    {
      "cell_type": "code",
      "execution_count": 95,
      "metadata": {
        "id": "lcx_A1vlybj1"
      },
      "outputs": [],
      "source": [
        "m=data.shape[0]\n",
        "n=data.shape[1]"
      ]
    },
    {
      "cell_type": "code",
      "execution_count": 96,
      "metadata": {
        "id": "ns4sEEjtuBgA"
      },
      "outputs": [],
      "source": [
        "class node: #to store a node of the decision tree\n",
        "  def __init__(self):\n",
        "    self.leaf=False\n",
        "    self.label='x'\n",
        "    self.next=[]\n",
        "    self.decision_attribute='x'"
      ]
    },
    {
      "cell_type": "code",
      "execution_count": 97,
      "metadata": {
        "id": "v7WVV2HnlD2P"
      },
      "outputs": [],
      "source": [
        "def entropy(l:list)->float: \n",
        "  \"\"\"\n",
        "    Input should be in the format [int, int]\n",
        "  \"\"\"\n",
        "  if 0 in l:\n",
        "    return 0\n",
        "  p=l[0]/sum(l)\n",
        "  return -1*(p * math.log2(p)+(1-p) * math.log2(1-p))"
      ]
    },
    {
      "cell_type": "code",
      "execution_count": 98,
      "metadata": {
        "id": "68BJ87JY0fCp"
      },
      "outputs": [],
      "source": [
        "def highest_gain(data:pd.DataFrame,m:int,n:int):\n",
        "  \"\"\"\n",
        "  Input:last column is considered to be the independent attribute\n",
        "        m is number of rows in data\n",
        "        n should be data.shape[1]-1\n",
        "        last column of data should be the decision attribute\n",
        "  Returns:index of the column in data wth highest information gain \n",
        "  \"\"\"\n",
        "  map=[]\n",
        "  entropy_s=0\n",
        "  f=False\n",
        "  for i in range(n):\n",
        "    yes=0\n",
        "    no=0\n",
        "    my_dict={}\n",
        "    for j in range(m):\n",
        "      if data.iloc[j][i] in my_dict:\n",
        "        pass\n",
        "      else:\n",
        "        my_dict[data.iloc[j][i]]=[0, 0]\n",
        "      if data.iloc[j][-1]=='yes':\n",
        "        yes+=1\n",
        "        my_dict[data.iloc[j][i]] = [my_dict[data.iloc[j][i]][0]+1,my_dict[data.iloc[j][i]][1]]\n",
        "      else:\n",
        "        no+=1\n",
        "        my_dict[data.iloc[j][i]] = [my_dict[data.iloc[j][i]][0],1+my_dict[data.iloc[j][i]][1]]\n",
        "    map.append(my_dict)\n",
        "    if not f:\n",
        "      f=True\n",
        "      entropy_s=entropy([yes, no])\n",
        "  max_info_gain=-1\n",
        "  max_info_gain_index=-1\n",
        "  for v,i in enumerate(map):\n",
        "    info_gain=entropy_s\n",
        "    for j in i:\n",
        "      info_gain=info_gain-(sum(i[j])/m) * entropy(i[j])\n",
        "    if info_gain>max_info_gain:\n",
        "      max_info_gain=info_gain\n",
        "      max_info_gain_index=v\n",
        "  return max_info_gain_index"
      ]
    },
    {
      "cell_type": "code",
      "execution_count": 99,
      "metadata": {
        "id": "JBf6-BbGEr_Y"
      },
      "outputs": [],
      "source": [
        "\"\"\"\n",
        "  map[i] contsains the unique values in column named i in the 'data' dataframe\n",
        "  it is made global to avoid having to keep multiple copies of the same variable\n",
        "\"\"\"\n",
        "map={}\n",
        "for i in data.columns:\n",
        "  s=set()\n",
        "  for j in range(m):\n",
        "    s.add(data.loc[j,i])\n",
        "  map[i]=s"
      ]
    },
    {
      "cell_type": "code",
      "execution_count": 107,
      "metadata": {
        "id": "6Kc6pw7FoBx3"
      },
      "outputs": [],
      "source": [
        "def id3(dataset:pd.DataFrame)->node:\n",
        "  \"\"\"\n",
        "    input:dataframe\n",
        "    returns:node\n",
        "  \"\"\"\n",
        "  global map\n",
        "  new_node=node()\n",
        "  \n",
        "  m=dataset.shape[0]\n",
        "  n=dataset.shape[1]\n",
        "  \n",
        "  if dataset.iloc[:,-1].nunique()==1:\n",
        "    new_node.label='+' if dataset.iloc[0][-1]=='yes' else '-'\n",
        "    new_node.leaf=True\n",
        "    return new_node\n",
        "  \n",
        "  if n==1:\n",
        "    new_node.leaf=True\n",
        "    new_node.label='+' if dataset.iloc[:,-1].value_counts()[:1].index.tolist()[0]=='yes' else '-'\n",
        "    return new_node\n",
        "  \n",
        "  a=highest_gain(dataset,m,n-1)\n",
        "  \n",
        "  A=dataset.columns.values.tolist()[a]\n",
        "  new_node.decision_attribute=A\n",
        "  for i in map[A]:\n",
        "    x=dataset.index[dataset[A] == i].values.tolist()\n",
        "    \n",
        "    if x==[]:\n",
        "      new_dataset=dataset.copy()\n",
        "      for j in range(n-1):\n",
        "        new_dataset.drop(columns=data.columns[j], inplace=True)\n",
        "      new_node.next.append(id3(new_dataset))\n",
        "    else:\n",
        "      new_dataset=dataset.copy()\n",
        "      new_dataset.drop(new_dataset.index[new_dataset[A]!=i], inplace=True)\n",
        "      new_dataset.drop(columns=A, inplace=True)\n",
        "      new_node.next.append((id3(new_dataset),i))\n",
        "  return new_node"
      ]
    },
    {
      "cell_type": "code",
      "source": [
        "root=id3(data) #returns root node of the created decision tree"
      ],
      "metadata": {
        "id": "2toiUKguMoe8"
      },
      "execution_count": 108,
      "outputs": []
    },
    {
      "cell_type": "code",
      "source": [
        "def test(root:node,instance:dict)->str:\n",
        "  \"\"\"\n",
        "    Input:dictionary in format, instance[i] shold contain value for column named i\n",
        "          and root node returned by id3\n",
        "    returns:Classification of instance by the created decision tree\n",
        "           + if yes, - if no, '-1' if value of an attribute i not recognized\n",
        "  \"\"\"\n",
        "  if root.leaf:\n",
        "    return root.label\n",
        "  decision_attribute = instance[root.decision_attribute]\n",
        "  for i in root.next:\n",
        "    if i[1]==decision_attribute:\n",
        "      return test(i[0], instance)\n",
        "  return '-1'"
      ],
      "metadata": {
        "id": "1N4AElkPnZz7"
      },
      "execution_count": 109,
      "outputs": []
    },
    {
      "cell_type": "code",
      "source": [
        "def val(root:node,df:pd.DataFrame)->dict:\n",
        "  \"\"\"\n",
        "    input:dataframe to test on decision tree with root as it's root node\n",
        "    returns:a dictionary with number of correct and incorrect classifications and total number of instances tested\n",
        "  \"\"\"\n",
        "  m=df.shape[0]\n",
        "  mismatch=0\n",
        "  for i in range(m):\n",
        "    instance={}\n",
        "    for j in df.columns:\n",
        "      instance[j]=df.loc[i,j]\n",
        "    res=test(root,instance)\n",
        "    if (data.iloc[i][-1]=='yes' and res=='-') or (data.iloc[i][-1]=='no' and res=='+'):\n",
        "      mismatch+=1\n",
        "  return {'incorrect_clasifications':mismatch, 'correct_classifications':(m-mismatch),'instances_tested':m}"
      ],
      "metadata": {
        "id": "STiPaUVXoXwE"
      },
      "execution_count": 110,
      "outputs": []
    },
    {
      "cell_type": "code",
      "source": [
        "val(root,data)"
      ],
      "metadata": {
        "colab": {
          "base_uri": "https://localhost:8080/"
        },
        "id": "l5VHNB9Xsf6b",
        "outputId": "6762bbc8-3252-43d3-98d4-6d1b13acaea4"
      },
      "execution_count": 111,
      "outputs": [
        {
          "output_type": "execute_result",
          "data": {
            "text/plain": [
              "{'correct_classifications': 14,\n",
              " 'incorrect_clasifications': 0,\n",
              " 'instances_tested': 14}"
            ]
          },
          "metadata": {},
          "execution_count": 111
        }
      ]
    },
    {
      "cell_type": "code",
      "source": [
        "def print_tree(root:node):\n",
        "  \"\"\"\n",
        "    Prints the structure of the decision tree, having 'root' as the root node, in DFS fashion\n",
        "  \"\"\"\n",
        "  print([root.decision_attribute,root.leaf,root.label, [b[1] for b in root.next]])\n",
        "  \n",
        "  for i in root.next:\n",
        "    print_tree(i[0])"
      ],
      "metadata": {
        "id": "-cymL8oVtk8P"
      },
      "execution_count": 112,
      "outputs": []
    },
    {
      "cell_type": "code",
      "source": [
        "print_tree(root)"
      ],
      "metadata": {
        "colab": {
          "base_uri": "https://localhost:8080/"
        },
        "id": "IjAMNMp4-mHc",
        "outputId": "242f67b8-5e5d-49eb-cbf4-d93171d4fbff"
      },
      "execution_count": 113,
      "outputs": [
        {
          "output_type": "stream",
          "name": "stdout",
          "text": [
            "['outlook', False, 'x', ['rain', 'sunny', 'overcast']]\n",
            "['wind', False, 'x', ['strong', 'weak']]\n",
            "['x', True, '-', []]\n",
            "['x', True, '+', []]\n",
            "['humidity', False, 'x', ['high', 'normal']]\n",
            "['x', True, '-', []]\n",
            "['x', True, '+', []]\n",
            "['x', True, '+', []]\n"
          ]
        }
      ]
    },
    {
      "cell_type": "code",
      "source": [
        ""
      ],
      "metadata": {
        "id": "GAWlxJlf_SNz"
      },
      "execution_count": 34,
      "outputs": []
    }
  ],
  "metadata": {
    "colab": {
      "name": "Decision_Tree.ipynb",
      "provenance": []
    },
    "kernelspec": {
      "display_name": "Python 3",
      "name": "python3"
    },
    "language_info": {
      "name": "python"
    }
  },
  "nbformat": 4,
  "nbformat_minor": 0
}
