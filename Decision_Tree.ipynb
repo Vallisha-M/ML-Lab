{
  "cells": [
    {
      "cell_type": "code",
      "execution_count": null,
      "metadata": {
        "id": "nhfNwjWpwNym"
      },
      "outputs": [],
      "source": [
        "import pandas as pd\n",
        "import math"
      ]
    },
    {
      "cell_type": "code",
      "execution_count": null,
      "metadata": {
        "id": "wd-06pUywkqS"
      },
      "outputs": [],
      "source": [
        "data=pd.read_csv('dataset_id3.csv')"
      ]
    },
    {
      "cell_type": "code",
      "execution_count": null,
      "metadata": {
        "colab": {
          "base_uri": "https://localhost:8080/",
          "height": 488
        },
        "id": "UGmO_lQI6OEp",
        "outputId": "aa8a36c8-4600-4eb9-b4f7-9170414c4a4d"
      },
      "outputs": [
        {
          "output_type": "execute_result",
          "data": {
            "text/plain": [
              "     outlook temperature humidity    wind playtennis\n",
              "0      sunny         hot     high    weak         no\n",
              "1      sunny         hot     high  strong         no\n",
              "2   overcast         hot     high    weak        yes\n",
              "3       rain        mild     high    weak        yes\n",
              "4       rain        cool   normal    weak        yes\n",
              "5       rain        cool   normal  strong         no\n",
              "6   overcast        cool   normal  strong        yes\n",
              "7      sunny        mild     high    weak         no\n",
              "8      sunny        cool   normal    weak        yes\n",
              "9       rain        mild   normal    weak        yes\n",
              "10     sunny        mild   normal  strong        yes\n",
              "11  overcast        mild     high  strong        yes\n",
              "12  overcast         hot   normal    weak        yes\n",
              "13      rain        mild     high  strong         no"
            ],
            "text/html": [
              "\n",
              "  <div id=\"df-da758f26-02ca-4772-8e98-b35f7c9a410d\">\n",
              "    <div class=\"colab-df-container\">\n",
              "      <div>\n",
              "<style scoped>\n",
              "    .dataframe tbody tr th:only-of-type {\n",
              "        vertical-align: middle;\n",
              "    }\n",
              "\n",
              "    .dataframe tbody tr th {\n",
              "        vertical-align: top;\n",
              "    }\n",
              "\n",
              "    .dataframe thead th {\n",
              "        text-align: right;\n",
              "    }\n",
              "</style>\n",
              "<table border=\"1\" class=\"dataframe\">\n",
              "  <thead>\n",
              "    <tr style=\"text-align: right;\">\n",
              "      <th></th>\n",
              "      <th>outlook</th>\n",
              "      <th>temperature</th>\n",
              "      <th>humidity</th>\n",
              "      <th>wind</th>\n",
              "      <th>playtennis</th>\n",
              "    </tr>\n",
              "  </thead>\n",
              "  <tbody>\n",
              "    <tr>\n",
              "      <th>0</th>\n",
              "      <td>sunny</td>\n",
              "      <td>hot</td>\n",
              "      <td>high</td>\n",
              "      <td>weak</td>\n",
              "      <td>no</td>\n",
              "    </tr>\n",
              "    <tr>\n",
              "      <th>1</th>\n",
              "      <td>sunny</td>\n",
              "      <td>hot</td>\n",
              "      <td>high</td>\n",
              "      <td>strong</td>\n",
              "      <td>no</td>\n",
              "    </tr>\n",
              "    <tr>\n",
              "      <th>2</th>\n",
              "      <td>overcast</td>\n",
              "      <td>hot</td>\n",
              "      <td>high</td>\n",
              "      <td>weak</td>\n",
              "      <td>yes</td>\n",
              "    </tr>\n",
              "    <tr>\n",
              "      <th>3</th>\n",
              "      <td>rain</td>\n",
              "      <td>mild</td>\n",
              "      <td>high</td>\n",
              "      <td>weak</td>\n",
              "      <td>yes</td>\n",
              "    </tr>\n",
              "    <tr>\n",
              "      <th>4</th>\n",
              "      <td>rain</td>\n",
              "      <td>cool</td>\n",
              "      <td>normal</td>\n",
              "      <td>weak</td>\n",
              "      <td>yes</td>\n",
              "    </tr>\n",
              "    <tr>\n",
              "      <th>5</th>\n",
              "      <td>rain</td>\n",
              "      <td>cool</td>\n",
              "      <td>normal</td>\n",
              "      <td>strong</td>\n",
              "      <td>no</td>\n",
              "    </tr>\n",
              "    <tr>\n",
              "      <th>6</th>\n",
              "      <td>overcast</td>\n",
              "      <td>cool</td>\n",
              "      <td>normal</td>\n",
              "      <td>strong</td>\n",
              "      <td>yes</td>\n",
              "    </tr>\n",
              "    <tr>\n",
              "      <th>7</th>\n",
              "      <td>sunny</td>\n",
              "      <td>mild</td>\n",
              "      <td>high</td>\n",
              "      <td>weak</td>\n",
              "      <td>no</td>\n",
              "    </tr>\n",
              "    <tr>\n",
              "      <th>8</th>\n",
              "      <td>sunny</td>\n",
              "      <td>cool</td>\n",
              "      <td>normal</td>\n",
              "      <td>weak</td>\n",
              "      <td>yes</td>\n",
              "    </tr>\n",
              "    <tr>\n",
              "      <th>9</th>\n",
              "      <td>rain</td>\n",
              "      <td>mild</td>\n",
              "      <td>normal</td>\n",
              "      <td>weak</td>\n",
              "      <td>yes</td>\n",
              "    </tr>\n",
              "    <tr>\n",
              "      <th>10</th>\n",
              "      <td>sunny</td>\n",
              "      <td>mild</td>\n",
              "      <td>normal</td>\n",
              "      <td>strong</td>\n",
              "      <td>yes</td>\n",
              "    </tr>\n",
              "    <tr>\n",
              "      <th>11</th>\n",
              "      <td>overcast</td>\n",
              "      <td>mild</td>\n",
              "      <td>high</td>\n",
              "      <td>strong</td>\n",
              "      <td>yes</td>\n",
              "    </tr>\n",
              "    <tr>\n",
              "      <th>12</th>\n",
              "      <td>overcast</td>\n",
              "      <td>hot</td>\n",
              "      <td>normal</td>\n",
              "      <td>weak</td>\n",
              "      <td>yes</td>\n",
              "    </tr>\n",
              "    <tr>\n",
              "      <th>13</th>\n",
              "      <td>rain</td>\n",
              "      <td>mild</td>\n",
              "      <td>high</td>\n",
              "      <td>strong</td>\n",
              "      <td>no</td>\n",
              "    </tr>\n",
              "  </tbody>\n",
              "</table>\n",
              "</div>\n",
              "      <button class=\"colab-df-convert\" onclick=\"convertToInteractive('df-da758f26-02ca-4772-8e98-b35f7c9a410d')\"\n",
              "              title=\"Convert this dataframe to an interactive table.\"\n",
              "              style=\"display:none;\">\n",
              "        \n",
              "  <svg xmlns=\"http://www.w3.org/2000/svg\" height=\"24px\"viewBox=\"0 0 24 24\"\n",
              "       width=\"24px\">\n",
              "    <path d=\"M0 0h24v24H0V0z\" fill=\"none\"/>\n",
              "    <path d=\"M18.56 5.44l.94 2.06.94-2.06 2.06-.94-2.06-.94-.94-2.06-.94 2.06-2.06.94zm-11 1L8.5 8.5l.94-2.06 2.06-.94-2.06-.94L8.5 2.5l-.94 2.06-2.06.94zm10 10l.94 2.06.94-2.06 2.06-.94-2.06-.94-.94-2.06-.94 2.06-2.06.94z\"/><path d=\"M17.41 7.96l-1.37-1.37c-.4-.4-.92-.59-1.43-.59-.52 0-1.04.2-1.43.59L10.3 9.45l-7.72 7.72c-.78.78-.78 2.05 0 2.83L4 21.41c.39.39.9.59 1.41.59.51 0 1.02-.2 1.41-.59l7.78-7.78 2.81-2.81c.8-.78.8-2.07 0-2.86zM5.41 20L4 18.59l7.72-7.72 1.47 1.35L5.41 20z\"/>\n",
              "  </svg>\n",
              "      </button>\n",
              "      \n",
              "  <style>\n",
              "    .colab-df-container {\n",
              "      display:flex;\n",
              "      flex-wrap:wrap;\n",
              "      gap: 12px;\n",
              "    }\n",
              "\n",
              "    .colab-df-convert {\n",
              "      background-color: #E8F0FE;\n",
              "      border: none;\n",
              "      border-radius: 50%;\n",
              "      cursor: pointer;\n",
              "      display: none;\n",
              "      fill: #1967D2;\n",
              "      height: 32px;\n",
              "      padding: 0 0 0 0;\n",
              "      width: 32px;\n",
              "    }\n",
              "\n",
              "    .colab-df-convert:hover {\n",
              "      background-color: #E2EBFA;\n",
              "      box-shadow: 0px 1px 2px rgba(60, 64, 67, 0.3), 0px 1px 3px 1px rgba(60, 64, 67, 0.15);\n",
              "      fill: #174EA6;\n",
              "    }\n",
              "\n",
              "    [theme=dark] .colab-df-convert {\n",
              "      background-color: #3B4455;\n",
              "      fill: #D2E3FC;\n",
              "    }\n",
              "\n",
              "    [theme=dark] .colab-df-convert:hover {\n",
              "      background-color: #434B5C;\n",
              "      box-shadow: 0px 1px 3px 1px rgba(0, 0, 0, 0.15);\n",
              "      filter: drop-shadow(0px 1px 2px rgba(0, 0, 0, 0.3));\n",
              "      fill: #FFFFFF;\n",
              "    }\n",
              "  </style>\n",
              "\n",
              "      <script>\n",
              "        const buttonEl =\n",
              "          document.querySelector('#df-da758f26-02ca-4772-8e98-b35f7c9a410d button.colab-df-convert');\n",
              "        buttonEl.style.display =\n",
              "          google.colab.kernel.accessAllowed ? 'block' : 'none';\n",
              "\n",
              "        async function convertToInteractive(key) {\n",
              "          const element = document.querySelector('#df-da758f26-02ca-4772-8e98-b35f7c9a410d');\n",
              "          const dataTable =\n",
              "            await google.colab.kernel.invokeFunction('convertToInteractive',\n",
              "                                                     [key], {});\n",
              "          if (!dataTable) return;\n",
              "\n",
              "          const docLinkHtml = 'Like what you see? Visit the ' +\n",
              "            '<a target=\"_blank\" href=https://colab.research.google.com/notebooks/data_table.ipynb>data table notebook</a>'\n",
              "            + ' to learn more about interactive tables.';\n",
              "          element.innerHTML = '';\n",
              "          dataTable['output_type'] = 'display_data';\n",
              "          await google.colab.output.renderOutput(dataTable, element);\n",
              "          const docLink = document.createElement('div');\n",
              "          docLink.innerHTML = docLinkHtml;\n",
              "          element.appendChild(docLink);\n",
              "        }\n",
              "      </script>\n",
              "    </div>\n",
              "  </div>\n",
              "  "
            ]
          },
          "metadata": {},
          "execution_count": 3
        }
      ],
      "source": [
        "data"
      ]
    },
    {
      "cell_type": "code",
      "execution_count": null,
      "metadata": {
        "id": "lcx_A1vlybj1"
      },
      "outputs": [],
      "source": [
        "m=data.shape[0]\n",
        "n=data.shape[1]"
      ]
    },
    {
      "cell_type": "code",
      "execution_count": null,
      "metadata": {
        "id": "ns4sEEjtuBgA"
      },
      "outputs": [],
      "source": [
        "class node: #to store a node of the decision tree\n",
        "  def __init__(self):\n",
        "    self.leaf=False\n",
        "    self.label='x'\n",
        "    self.next=[]\n",
        "    self.decision_attribute='x'"
      ]
    },
    {
      "cell_type": "code",
      "execution_count": null,
      "metadata": {
        "id": "v7WVV2HnlD2P"
      },
      "outputs": [],
      "source": [
        "def entropy(l:list)->float: \n",
        "  \"\"\"\n",
        "    Input should be in the format [int, int]\n",
        "  \"\"\"\n",
        "  if 0 in l:\n",
        "    return 0\n",
        "  p=l[0]/sum(l)\n",
        "  return -1*(p * math.log2(p)+(1-p) * math.log2(1-p))"
      ]
    },
    {
      "cell_type": "markdown",
      "source": [
        "![Screenshot from 2022-05-03 12-14-33.png](data:image/png;base64,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)"
      ],
      "metadata": {
        "id": "7iHBmmvaqf5U"
      }
    },
    {
      "cell_type": "code",
      "execution_count": null,
      "metadata": {
        "id": "68BJ87JY0fCp"
      },
      "outputs": [],
      "source": [
        "def highest_gain(data:pd.DataFrame,m:int,n:int):\n",
        "  \"\"\"\n",
        "  Input:last column is considered to be the target attribute\n",
        "        m is number of rows in data\n",
        "        n should be data.shape[1]-1\n",
        "        last column of data should be the decision attribute\n",
        "  Returns:index of the column in data wth highest information gain \n",
        "  \"\"\"\n",
        "  map=[]\n",
        "  entropy_s=0\n",
        "  f=False\n",
        "  for i in range(n):\n",
        "    yes=0\n",
        "    no=0\n",
        "    my_dict={}\n",
        "    for j in range(m):\n",
        "      if data.iloc[j][i] in my_dict:\n",
        "        pass\n",
        "      else:\n",
        "        my_dict[data.iloc[j][i]]=[0, 0]\n",
        "      if data.iloc[j][-1]=='yes':\n",
        "        yes+=1\n",
        "        my_dict[data.iloc[j][i]][0] += 1\n",
        "      else:\n",
        "        no+=1\n",
        "        my_dict[data.iloc[j][i]][1] += 1\n",
        "    map.append(my_dict)\n",
        "    if not f:\n",
        "      f=True\n",
        "      entropy_s=entropy([yes, no])\n",
        "  max_info_gain=-1\n",
        "  max_info_gain_index=-1\n",
        "  for v,i in enumerate(map):\n",
        "    info_gain=entropy_s\n",
        "    for j in i:\n",
        "      info_gain=info_gain-(sum(i[j])/m) * entropy(i[j])\n",
        "    if info_gain>max_info_gain:\n",
        "      max_info_gain=info_gain\n",
        "      max_info_gain_index=v\n",
        "  return max_info_gain_index"
      ]
    },
    {
      "cell_type": "code",
      "execution_count": null,
      "metadata": {
        "id": "JBf6-BbGEr_Y"
      },
      "outputs": [],
      "source": [
        "\"\"\"\n",
        "  map[i] contains the unique values in column named i in the 'data' dataframe\n",
        "  it is made global to avoid having to keep multiple copies of the same variable\n",
        "\"\"\"\n",
        "map={}\n",
        "for i in data.columns:\n",
        "  s=set()\n",
        "  for j in range(m):\n",
        "    s.add(data.loc[j,i])\n",
        "  map[i]=s"
      ]
    },
    {
      "cell_type": "code",
      "execution_count": null,
      "metadata": {
        "id": "6Kc6pw7FoBx3"
      },
      "outputs": [],
      "source": [
        "def id3(dataset:pd.DataFrame)->node:\n",
        "  \"\"\"\n",
        "    input:dataframe\n",
        "    returns:node\n",
        "  \"\"\"\n",
        "  global map\n",
        "  new_node=node()\n",
        "  \n",
        "  m=dataset.shape[0]\n",
        "  n=dataset.shape[1]\n",
        "  \n",
        "  if dataset.iloc[:,-1].nunique()==1: #if all yes or no\n",
        "    new_node.label='+' if dataset.iloc[0][-1]=='yes' else '-'\n",
        "    new_node.leaf=True\n",
        "    return new_node\n",
        "  \n",
        "  if n==1:#if no independent attribute\n",
        "    new_node.leaf=True\n",
        "    new_node.label='+' if dataset.iloc[:,-1].value_counts()[:1].index.tolist()[0]=='yes' else '-'\n",
        "    return new_node\n",
        "  \n",
        "  a=highest_gain(dataset,m,n-1)\n",
        "  \n",
        "  A=dataset.columns.values.tolist()[a]\n",
        "  new_node.decision_attribute=A\n",
        "  for i in map[A]: \n",
        "    x=dataset.index[dataset[A] == i].values.tolist()\n",
        "    \n",
        "    if x==[]: #if no examples with df[A]=i\n",
        "      new_dataset=dataset.copy()\n",
        "      for j in range(n-1):\n",
        "        new_dataset.drop(columns=new_dataset.columns[j], inplace=True)\n",
        "      new_node.next.append(id3(new_dataset))\n",
        "    else: #else\n",
        "      new_dataset=dataset.copy()\n",
        "      new_dataset.drop(new_dataset.index[new_dataset[A]!=i], inplace=True)\n",
        "      new_dataset.drop(columns=A, inplace=True)\n",
        "      new_node.next.append((id3(new_dataset),i))\n",
        "  return new_node"
      ]
    },
    {
      "cell_type": "code",
      "source": [
        "def test(root:node,instance:dict)->str:\n",
        "  \"\"\"\n",
        "    Input:dictionary in format, instance[i] shold contain value for column named i\n",
        "          and root node returned by id3\n",
        "    returns:Classification of instance by the created decision tree\n",
        "           + if yes, - if no, '-1' if value of an attribute i not recognized\n",
        "  \"\"\"\n",
        "  if root.leaf:\n",
        "    return root.label\n",
        "  decision_attribute = instance[root.decision_attribute]\n",
        "  for i in root.next:\n",
        "    if i[1]==decision_attribute:\n",
        "      return test(i[0], instance)\n",
        "  return '-1'"
      ],
      "metadata": {
        "id": "1N4AElkPnZz7"
      },
      "execution_count": null,
      "outputs": []
    },
    {
      "cell_type": "code",
      "source": [
        "def val(root:node,df:pd.DataFrame)->dict:\n",
        "  \"\"\"\n",
        "    input:dataframe to test on decision tree with root as it's root node\n",
        "    returns:a dictionary with number of correct and incorrect classifications and total number of instances tested\n",
        "  \"\"\"\n",
        "  m=df.shape[0]\n",
        "  mismatch=0\n",
        "  for i in range(m):\n",
        "    instance={}\n",
        "    for j in df.columns:\n",
        "      instance[j]=df.loc[i,j]\n",
        "    res=test(root,instance)\n",
        "    if (data.iloc[i][-1]=='yes' and res=='-') or (data.iloc[i][-1]=='no' and res=='+'):\n",
        "      mismatch+=1\n",
        "  return {'incorrect_clasifications':mismatch, 'correct_classifications':(m-mismatch),'instances_tested':m}"
      ],
      "metadata": {
        "id": "STiPaUVXoXwE"
      },
      "execution_count": null,
      "outputs": []
    },
    {
      "cell_type": "code",
      "source": [
        "def print_tree(root:node):\n",
        "  \"\"\"\n",
        "    Prints the structure of the decision tree, having 'root' as the root node, in DFS fashion\n",
        "  \"\"\"\n",
        "  print([root.decision_attribute,root.leaf,root.label, [b[1] for b in root.next]])\n",
        "  \n",
        "  for i in root.next:\n",
        "    print_tree(i[0])"
      ],
      "metadata": {
        "id": "-cymL8oVtk8P"
      },
      "execution_count": null,
      "outputs": []
    },
    {
      "cell_type": "code",
      "source": [
        "root=id3(data) #returns root node of the created decision tree"
      ],
      "metadata": {
        "id": "2toiUKguMoe8"
      },
      "execution_count": null,
      "outputs": []
    },
    {
      "cell_type": "code",
      "source": [
        "print_tree(root)"
      ],
      "metadata": {
        "colab": {
          "base_uri": "https://localhost:8080/"
        },
        "id": "IjAMNMp4-mHc",
        "outputId": "838df216-576c-4764-e139-485480caef24"
      },
      "execution_count": null,
      "outputs": [
        {
          "output_type": "stream",
          "name": "stdout",
          "text": [
            "['outlook', False, 'x', ['rain', 'sunny', 'overcast']]\n",
            "['wind', False, 'x', ['strong', 'weak']]\n",
            "['x', True, '-', []]\n",
            "['x', True, '+', []]\n",
            "['humidity', False, 'x', ['high', 'normal']]\n",
            "['x', True, '-', []]\n",
            "['x', True, '+', []]\n",
            "['x', True, '+', []]\n"
          ]
        }
      ]
    },
    {
      "cell_type": "code",
      "source": [
        "val(root,data)"
      ],
      "metadata": {
        "colab": {
          "base_uri": "https://localhost:8080/"
        },
        "id": "l5VHNB9Xsf6b",
        "outputId": "744ff686-f4f4-4397-c87c-d65aa868a4a2"
      },
      "execution_count": null,
      "outputs": [
        {
          "output_type": "execute_result",
          "data": {
            "text/plain": [
              "{'correct_classifications': 14,\n",
              " 'incorrect_clasifications': 0,\n",
              " 'instances_tested': 14}"
            ]
          },
          "metadata": {},
          "execution_count": 15
        }
      ]
    },
    {
      "cell_type": "code",
      "source": [
        ""
      ],
      "metadata": {
        "id": "GAWlxJlf_SNz"
      },
      "execution_count": null,
      "outputs": []
    }
  ],
  "metadata": {
    "colab": {
      "name": "Decision_Tree.ipynb",
      "provenance": [],
      "authorship_tag": "ABX9TyMOmKd+eqmW8Yz+kWcwlZQD"
    },
    "kernelspec": {
      "display_name": "Python 3",
      "name": "python3"
    },
    "language_info": {
      "name": "python"
    }
  },
  "nbformat": 4,
  "nbformat_minor": 0
}